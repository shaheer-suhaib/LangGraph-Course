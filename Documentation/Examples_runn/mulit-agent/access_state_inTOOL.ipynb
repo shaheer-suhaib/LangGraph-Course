{
 "cells": [
  {
   "cell_type": "code",
   "execution_count": 4,
   "id": "8b965557",
   "metadata": {},
   "outputs": [],
   "source": [
    "\n",
    "from dotenv import load_dotenv\n",
    "import os\n",
    "from langchain_google_genai import ChatGoogleGenerativeAI\n",
    "\n",
    "\n",
    "load_dotenv()\n",
    "GEMINI_API_KEY = os.getenv(\"GEMINI_API_KEYYY\")\n",
    "model = ChatGoogleGenerativeAI(model=\"gemini-1.5-flash\",google_api_key=  GEMINI_API_KEY )\n"
   ]
  },
  {
   "cell_type": "code",
   "execution_count": null,
   "id": "1d001c8a",
   "metadata": {},
   "outputs": [],
   "source": [
    "from typing import Annotated, NotRequired\n",
    "from langchain_core.tools import tool\n",
    "from langgraph.prebuilt import InjectedState, create_react_agent\n",
    "from langgraph.prebuilt.chat_agent_executor import AgentState\n",
    "\n",
    "class CustomState(AgentState):\n",
    "    # The user_name field in short-term state\n",
    "    user_name: NotRequired[str]\n",
    "\n",
    "@tool\n",
    "def get_user_name(\n",
    "    state: Annotated[CustomState, InjectedState]\n",
    ") -> str:\n",
    "    \"\"\"Retrieve the current user-name from state.\"\"\"\n",
    "    # Return stored name or a default if not set\n",
    "    return state.get(\"user_name\", \"Unknown user\")\n",
    "\n",
    "\n",
    "@tool\n",
    "def update_user_name(\n",
    "    new_name: str,\n",
    "    tool_call_id: Annotated[str, InjectedToolCallId]\n",
    ") -> Command:\n",
    "    \"\"\"Update user-name in short-term memory.\"\"\"\n",
    "    return Command(update={\n",
    "        \"user_name\": new_name,\n",
    "        \"messages\": [\n",
    "            ToolMessage(f\"Updated user name to {new_name}\", tool_call_id=tool_call_id)\n",
    "        ]\n",
    "    })\n",
    "\n",
    "# Example agent setup\n",
    "agent = create_react_agent(\n",
    "    model=model,\n",
    "    tools=[get_user_name],\n",
    "    state_schema=CustomState,\n",
    ")\n"
   ]
  },
  {
   "cell_type": "code",
   "execution_count": 6,
   "id": "14fc8a97",
   "metadata": {},
   "outputs": [
    {
     "data": {
      "image/png": "[encoded data removed]",
      "text/plain": [
       "<langgraph.graph.state.CompiledStateGraph object at 0x0000017559B9A5D0>"
      ]
     },
     "execution_count": 6,
     "metadata": {},
     "output_type": "execute_result"
    }
   ],
   "source": [
    "agent"
   ]
  },
  {
   "cell_type": "code",
   "execution_count": 7,
   "id": "9d838b17",
   "metadata": {},
   "outputs": [
    {
     "data": {
      "text/plain": [
       "{'messages': [HumanMessage(content=\"what's my name?\", additional_kwargs={}, response_metadata={}, id='20e4f7e8-c05b-4404-a2c8-06190721ccf3'),\n",
       "  AIMessage(content='', additional_kwargs={'function_call': {'name': 'get_user_name', 'arguments': '{}'}}, response_metadata={'prompt_feedback': {'block_reason': 0, 'safety_ratings': []}, 'finish_reason': 'STOP', 'model_name': 'gemini-1.5-flash', 'safety_ratings': []}, id='run--ef5175f1-d022-499c-8f0e-e3d4bc6b6791-0', tool_calls=[{'name': 'get_user_name', 'args': {}, 'id': 'a2029429-7fa7-4a51-bb12-3c5c39f3874b', 'type': 'tool_call'}], usage_metadata={'input_tokens': 20, 'output_tokens': 5, 'total_tokens': 25, 'input_token_details': {'cache_read': 0}}),\n",
       "  ToolMessage(content='Unknown user', name='get_user_name', id='0c92719f-71c0-46c5-a9e1-0b025c35b1f1', tool_call_id='a2029429-7fa7-4a51-bb12-3c5c39f3874b'),\n",
       "  AIMessage(content='I do not know your name.  The available tools did not return a name.', additional_kwargs={}, response_metadata={'prompt_feedback': {'block_reason': 0, 'safety_ratings': []}, 'finish_reason': 'STOP', 'model_name': 'gemini-1.5-flash', 'safety_ratings': []}, id='run--385bc5b2-0458-42ed-82bf-335ad195bb19-0', usage_metadata={'input_tokens': 33, 'output_tokens': 18, 'total_tokens': 51, 'input_token_details': {'cache_read': 0}})]}"
      ]
     },
     "execution_count": 7,
     "metadata": {},
     "output_type": "execute_result"
    }
   ],
   "source": [
    "\n",
    "# Invocation: reads the name from state (initially empty)\n",
    "agent.invoke({\"messages\": \"what's my name?\"})"
   ]
  },
  {
   "cell_type": "code",
   "execution_count": null,
   "id": "4df66bea",
   "metadata": {},
   "outputs": [],
   "source": [
    "from typing import Annotated\n",
    "from langgraph.prebuilt import  InjectedState\n",
    "from langgraph.prebuilt.chat_agent_executor import AgentState, ToolMessage\n",
    "from langchain_core.tools import tool , InjectedToolCallId\n",
    "from langchain_core.messages import HumanMessage\n",
    "from langchain_google_genai import ChatGoogleGenerativeAI\n",
    "from typing_extensions import NotRequired\n",
    "from langgraph.types import Command\n",
    "\n",
    "\n",
    "# --- STEP 1: Define custom memory state schema ---\n",
    "class CustomState(AgentState):\n",
    "    user_name: NotRequired[str]\n",
    "\n",
    "# --- STEP 2: Tool to update user name ---\n",
    "@tool\n",
    "def update_user_name(\n",
    "    new_name: str,\n",
    "    tool_call_id: Annotated[str, InjectedToolCallId]\n",
    ") -> Command:\n",
    "    \"\"\"Update user-name in short-term memory.\"\"\"\n",
    "    return Command(update={\n",
    "        \"user_name\": new_name,\n",
    "        \"messages\": [\n",
    "            ToolMessage(\n",
    "                content=f\"Updated user name to {new_name}\",\n",
    "                tool_call_id=tool_call_id\n",
    "            )\n",
    "        ]\n",
    "    })\n",
    "\n",
    "# --- STEP 3: Tool to fetch user name from memory ---\n",
    "@tool\n",
    "def get_user_name(\n",
    "    state: Annotated[CustomState, InjectedState]\n",
    ") -> str:\n",
    "    \"\"\"Return the current stored user name.\"\"\"\n",
    "    return state.get(\"user_name\", \"Unknown user\")\n",
    "\n",
    "# --- STEP 4: Build LangGraph agent ---\n",
    "from langgraph.prebuilt import create_react_agent\n",
    "\n",
    "agent_executor = create_react_agent(\n",
    "    tools=[update_user_name, get_user_name],\n",
    "    model=model,\n",
    "    state_schema=CustomState,\n",
    "    \n",
    ")"
   ]
  },
  {
   "cell_type": "code",
   "execution_count": 13,
   "id": "e5764077",
   "metadata": {},
   "outputs": [
    {
     "data": {
      "image/png": "[encoded data removed]",
      "text/plain": [
       "<langgraph.graph.state.CompiledStateGraph object at 0x0000017559C2CBF0>"
      ]
     },
     "execution_count": 13,
     "metadata": {},
     "output_type": "execute_result"
    }
   ],
   "source": [
    "agent_executor"
   ]
  },
  {
   "cell_type": "code",
   "execution_count": 14,
   "id": "bde7e3ac",
   "metadata": {},
   "outputs": [
    {
     "name": "stdout",
     "output_type": "stream",
     "text": [
      "OK. I've set your name to Shaheer. Anything else?\n",
      "Updated state: Shaheer\n"
     ]
    }
   ],
   "source": [
    "\n",
    "\n",
    "# --- STEP 5: Run Test Query ---\n",
    "response = agent_executor.invoke({\n",
    "    \"messages\": [HumanMessage(content=\"Please set my name to Shaheer.\")],\n",
    "    \"user_name\": None\n",
    "})\n",
    "\n",
    "print(response[\"messages\"][-1].content)\n",
    "print(\"Updated state:\", response.get(\"user_name\"))\n"
   ]
  },
  {
   "cell_type": "code",
   "execution_count": null,
   "id": "c0493542",
   "metadata": {},
   "outputs": [],
   "source": []
  }
 ],
 "metadata": {
  "kernelspec": {
   "display_name": "Python 3",
   "language": "python",
   "name": "python3"
  },
  "language_info": {
   "codemirror_mode": {
    "name": "ipython",
    "version": 3
   },
   "file_extension": ".py",
   "mimetype": "text/x-python",
   "name": "python",
   "nbconvert_exporter": "python",
   "pygments_lexer": "ipython3",
   "version": "3.12.4"
  }
 },
 "nbformat": 4,
 "nbformat_minor": 5
}
