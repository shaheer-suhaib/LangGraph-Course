{
 "cells": [
  {
   "cell_type": "markdown",
   "id": "172bef87",
   "metadata": {},
   "source": [
    "#### they said there are two subgraphs types\n",
    "1. when same shared state\n",
    "( For example, in multi-agent systems, the agents often communicate over a shared messages key.)\n",
    "2. when diff and call the sub in one of parent node"
   ]
  },
  {
   "cell_type": "markdown",
   "id": "efc1815d",
   "metadata": {},
   "source": [
    " A common application of subgraphs is to build multi-agent systems."
   ]
  },
  {
   "cell_type": "markdown",
   "id": "2ce68259",
   "metadata": {},
   "source": [
    "#1"
   ]
  },
  {
   "cell_type": "code",
   "execution_count": null,
   "id": "b164a976",
   "metadata": {},
   "outputs": [
    {
     "data": {
      "image/png": "[encoded data removed]",
      "text/plain": [
       "<langgraph.graph.state.CompiledStateGraph object at 0x000001E08B3D7530>"
      ]
     },
     "execution_count": 1,
     "metadata": {},
     "output_type": "execute_result"
    }
   ],
   "source": [
    "from typing_extensions import TypedDict\n",
    "from langgraph.graph.state import StateGraph, START\n",
    "\n",
    "# Define subgraph\n",
    "class SubgraphState(TypedDict):\n",
    "    foo: str  \n",
    "    bar: str  \n",
    "\n",
    "def subgraph_node_1(state: SubgraphState):\n",
    "    return {\"bar\": \"bar\"}\n",
    "\n",
    "def subgraph_node_2(state: SubgraphState):\n",
    "    # note that this node is using a state key ('bar') that is only available in the subgraph\n",
    "    # and is sending update on the shared state key ('foo')\n",
    "    return {\"foo\": state[\"foo\"] + state[\"bar\"]}\n",
    "\n",
    "subgraph_builder = StateGraph(SubgraphState)\n",
    "subgraph_builder.add_node(subgraph_node_1)\n",
    "subgraph_builder.add_node(subgraph_node_2)\n",
    "subgraph_builder.add_edge(START, \"subgraph_node_1\")\n",
    "subgraph_builder.add_edge(\"subgraph_node_1\", \"subgraph_node_2\")\n",
    "subgraph = subgraph_builder.compile()\n",
    "\n",
    "# Define parent graph\n",
    "class ParentState(TypedDict):\n",
    "    foo: str\n",
    "\n",
    "def node_1(state: ParentState):\n",
    "    return {\"foo\": \"hi! \" + state[\"foo\"]}\n",
    "\n",
    "builder = StateGraph(ParentState)\n",
    "builder.add_node(\"node_1\", node_1)\n",
    "builder.add_node(\"node_2\", subgraph)\n",
    "builder.add_edge(START, \"node_1\")\n",
    "builder.add_edge(\"node_1\", \"node_2\")\n",
    "builder.compile()\n"
   ]
  },
  {
   "cell_type": "code",
   "execution_count": null,
   "id": "c836499c",
   "metadata": {},
   "outputs": [],
   "source": [
    "graph = builder.compile()\n",
    "for chunk in graph.stream({\"foo\": \"foo\"}):\n",
    "    print(chunk)"
   ]
  },
  {
   "cell_type": "markdown",
   "id": "be40c82d",
   "metadata": {},
   "source": [
    "# Different state schema\n",
    "For more complex systems you might want to define subgraphs that have a completely different schema from the parent graph (no shared keys).\n",
    "For example, you might want to keep a private message history for each of the agents in a multi-agent system.\n",
    "\n",
    "😂 everything in docs"
   ]
  },
  {
   "cell_type": "code",
   "execution_count": 2,
   "id": "cec62b81",
   "metadata": {},
   "outputs": [
    {
     "data": {
      "image/png": "[encoded data removed]",
      "text/plain": [
       "<langgraph.graph.state.CompiledStateGraph object at 0x000001E08B479430>"
      ]
     },
     "execution_count": 2,
     "metadata": {},
     "output_type": "execute_result"
    }
   ],
   "source": [
    "from typing_extensions import TypedDict\n",
    "from langgraph.graph.state import StateGraph, START\n",
    "\n",
    "# Define subgraph\n",
    "class SubgraphState(TypedDict):\n",
    "    # note that none of these keys are shared with the parent graph state\n",
    "    bar: str\n",
    "    baz: str\n",
    "\n",
    "def subgraph_node_1(state: SubgraphState):\n",
    "    return {\"baz\": \"baz\"}\n",
    "\n",
    "def subgraph_node_2(state: SubgraphState):\n",
    "    return {\"bar\": state[\"bar\"] + state[\"baz\"]}\n",
    "\n",
    "subgraph_builder = StateGraph(SubgraphState)\n",
    "subgraph_builder.add_node(subgraph_node_1)\n",
    "subgraph_builder.add_node(subgraph_node_2)\n",
    "subgraph_builder.add_edge(START, \"subgraph_node_1\")\n",
    "subgraph_builder.add_edge(\"subgraph_node_1\", \"subgraph_node_2\")\n",
    "subgraph = subgraph_builder.compile()\n",
    "\n",
    "# Define parent graph\n",
    "class ParentState(TypedDict):\n",
    "    foo: str\n",
    "\n",
    "def node_1(state: ParentState):\n",
    "    return {\"foo\": \"hi! \" + state[\"foo\"]}\n",
    "\n",
    "def node_2(state: ParentState):\n",
    "    response = subgraph.invoke({\"bar\": state[\"foo\"]})  \n",
    "    return {\"foo\": response[\"bar\"]}  \n",
    "\n",
    "\n",
    "builder = StateGraph(ParentState)\n",
    "builder.add_node(\"node_1\", node_1)\n",
    "builder.add_node(\"node_2\", node_2)\n",
    "builder.add_edge(START, \"node_1\")\n",
    "builder.add_edge(\"node_1\", \"node_2\")\n",
    "builder.compile()"
   ]
  },
  {
   "cell_type": "code",
   "execution_count": 3,
   "id": "af9ca323",
   "metadata": {},
   "outputs": [
    {
     "name": "stdout",
     "output_type": "stream",
     "text": [
      "((), {'node_1': {'foo': 'hi! foo'}})\n",
      "(('node_2:406322a2-4cf5-d8b5-6595-0b2b348830ac',), {'subgraph_node_1': {'baz': 'baz'}})\n",
      "(('node_2:406322a2-4cf5-d8b5-6595-0b2b348830ac',), {'subgraph_node_2': {'bar': 'hi! foobaz'}})\n",
      "((), {'node_2': {'foo': 'hi! foobaz'}})\n"
     ]
    }
   ],
   "source": [
    "graph = builder.compile()\n",
    "\n",
    "for chunk in graph.stream({\"foo\": \"foo\"}, subgraphs=True):\n",
    "    print(chunk)"
   ]
  },
  {
   "cell_type": "markdown",
   "id": "3d3fc36d",
   "metadata": {},
   "source": [
    "1. Full example: different state schemas (two levels of subgraphs)\n",
    "1. This is an example with two levels of subgraphs: parent -> child -> grandchild."
   ]
  },
  {
   "cell_type": "code",
   "execution_count": null,
   "id": "e7e3c7c2",
   "metadata": {},
   "outputs": [
    {
     "data": {
      "image/png": "[encoded data removed]",
      "text/plain": [
       "<langgraph.graph.state.CompiledStateGraph object at 0x000001E08B4C3950>"
      ]
     },
     "execution_count": 5,
     "metadata": {},
     "output_type": "execute_result"
    }
   ],
   "source": [
    "# Grandchild graph\n",
    "from typing_extensions import TypedDict\n",
    "from langgraph.graph.state import StateGraph, START, END\n",
    "\n",
    "class GrandChildState(TypedDict):\n",
    "    my_grandchild_key: str\n",
    "\n",
    "def grandchild_1(state: GrandChildState) -> GrandChildState:\n",
    "    # NOTE: child or parent keys will not be accessible here\n",
    "    return {\"my_grandchild_key\": state[\"my_grandchild_key\"] + \", how are you\"}\n",
    "\n",
    "\n",
    "grandchild = StateGraph(GrandChildState)\n",
    "grandchild.add_node(\"grandchild_1\", grandchild_1)\n",
    "\n",
    "grandchild.add_edge(START, \"grandchild_1\")\n",
    "grandchild.add_edge(\"grandchild_1\", END)\n",
    "\n",
    "grandchild_graph = grandchild.compile()\n",
    "\n",
    "# Child graph\n",
    "class ChildState(TypedDict):\n",
    "    my_child_key: str\n",
    "\n",
    "def call_grandchild_graph(state: ChildState) -> ChildState:\n",
    "    # NOTEe: parent or grandchild keys won't be accessible here\n",
    "    grandchild_graph_input = {\"my_grandchild_key\": state[\"my_child_key\"]}  \n",
    "    grandchild_graph_output = grandchild_graph.invoke(grandchild_graph_input)\n",
    "    return {\"my_child_key\": grandchild_graph_output[\"my_grandchild_key\"] + \" today?\"}  \n",
    "\n",
    "child = StateGraph(ChildState)\n",
    "child.add_node(\"child_1\", call_grandchild_graph)  \n",
    "child.add_edge(START, \"child_1\")\n",
    "child.add_edge(\"child_1\", END)\n",
    "child_graph = child.compile()\n",
    "\n",
    "# Parent graph\n",
    "class ParentState(TypedDict):\n",
    "    my_key: str\n",
    "\n",
    "def parent_1(state: ParentState) -> ParentState:\n",
    "    # NOTE: child or grandchild keys won't be accessible here\n",
    "    return {\"my_key\": \"hi \" + state[\"my_key\"]}\n",
    "\n",
    "def parent_2(state: ParentState) -> ParentState:\n",
    "    return {\"my_key\": state[\"my_key\"] + \" bye!\"}\n",
    "\n",
    "def call_child_graph(state: ParentState) -> ParentState:\n",
    "    child_graph_input = {\"my_child_key\": state[\"my_key\"]}  \n",
    "    child_graph_output = child_graph.invoke(child_graph_input)\n",
    "    return {\"my_key\": child_graph_output[\"my_child_key\"]}  \n",
    "\n",
    "parent = StateGraph(ParentState)\n",
    "parent.add_node(\"parent_1\", parent_1)\n",
    "parent.add_node(\"child\", call_child_graph)  \n",
    "parent.add_node(\"parent_2\", parent_2)\n",
    "\n",
    "parent.add_edge(START, \"parent_1\")\n",
    "parent.add_edge(\"parent_1\", \"child\")\n",
    "parent.add_edge(\"child\", \"parent_2\")\n",
    "parent.add_edge(\"parent_2\", END)\n",
    "parent.compile()"
   ]
  },
  {
   "cell_type": "code",
   "execution_count": 6,
   "id": "9494c56f",
   "metadata": {},
   "outputs": [
    {
     "name": "stdout",
     "output_type": "stream",
     "text": [
      "((), {'parent_1': {'my_key': 'hi Bob'}})\n",
      "(('child:0fa89b04-0f48-ac8c-f334-f7976da88a66', 'child_1:35b29f9b-3ca1-eeee-edad-befaad60571e'), {'grandchild_1': {'my_grandchild_key': 'hi Bob, how are you'}})\n",
      "(('child:0fa89b04-0f48-ac8c-f334-f7976da88a66',), {'child_1': {'my_child_key': 'hi Bob, how are you today?'}})\n",
      "((), {'child': {'my_key': 'hi Bob, how are you today?'}})\n",
      "((), {'parent_2': {'my_key': 'hi Bob, how are you today? bye!'}})\n"
     ]
    }
   ],
   "source": [
    "\n",
    "parent_graph = parent.compile()\n",
    "\n",
    "for chunk in parent_graph.stream({\"my_key\": \"Bob\"}, subgraphs=True):\n",
    "    print(chunk)"
   ]
  },
  {
   "cell_type": "code",
   "execution_count": null,
   "id": "db1eae69",
   "metadata": {},
   "outputs": [],
   "source": []
  }
 ],
 "metadata": {
  "kernelspec": {
   "display_name": "Python 3",
   "language": "python",
   "name": "python3"
  },
  "language_info": {
   "codemirror_mode": {
    "name": "ipython",
    "version": 3
   },
   "file_extension": ".py",
   "mimetype": "text/x-python",
   "name": "python",
   "nbconvert_exporter": "python",
   "pygments_lexer": "ipython3",
   "version": "3.12.4"
  }
 },
 "nbformat": 4,
 "nbformat_minor": 5
}
