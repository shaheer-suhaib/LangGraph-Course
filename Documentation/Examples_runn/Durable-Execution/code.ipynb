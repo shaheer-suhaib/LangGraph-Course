{
 "cells": [
  {
   "cell_type": "code",
   "execution_count": 9,
   "id": "2bd146c8",
   "metadata": {},
   "outputs": [],
   "source": [
    "from typing import NotRequired\n",
    "from typing_extensions import TypedDict\n",
    "import uuid\n",
    "\n",
    "from langgraph.checkpoint.memory import MemorySaver\n",
    "from langgraph.graph import StateGraph, START, END\n",
    "import requests\n",
    "\n",
    "# Define a TypedDict to represent the state\n",
    "class State(TypedDict):\n",
    "    url: str\n",
    "    result: NotRequired[str]\n",
    "\n",
    "def call_api(state: State):\n",
    "    \"\"\"Example node that makes an API request.\"\"\"\n",
    "    result = requests.get(state['url']).text  # Side-effect\n",
    "    return {\n",
    "        \"result\": result\n",
    "    }\n",
    "\n",
    "# Create a StateGraph builder and add a node for the call_api function\n",
    "builder = StateGraph(State)\n",
    "builder.add_node(\"call_api\", call_api)\n",
    "\n",
    "# Connect the start and end nodes to the call_api node\n",
    "builder.add_edge(START, \"call_api\")\n",
    "builder.add_edge(\"call_api\", END)\n",
    "\n",
    "# Specify a checkpointer\n",
    "checkpointer = MemorySaver()\n",
    "\n",
    "# Compile the graph with the checkpointer\n",
    "graph = builder.compile(checkpointer=checkpointer)\n"
   ]
  },
  {
   "cell_type": "code",
   "execution_count": 10,
   "id": "f068ef03",
   "metadata": {},
   "outputs": [
    {
     "data": {
      "image/png": "[encoded data removed]",
      "text/plain": [
       "<langgraph.graph.state.CompiledStateGraph object at 0x000001412C148C80>"
      ]
     },
     "execution_count": 10,
     "metadata": {},
     "output_type": "execute_result"
    }
   ],
   "source": [
    "builder.compile(checkpointer=checkpointer)"
   ]
  },
  {
   "cell_type": "code",
   "execution_count": null,
   "id": "e32dcad4",
   "metadata": {},
   "outputs": [],
   "source": [
    "\n",
    "# Define a config with a thread ID.\n",
    "thread_id = uuid.uuid4()\n",
    "config = {\"configurable\": {\"thread_id\": thread_id}}\n",
    "\n",
    "# Invoke the graph\n",
    "result=graph.invoke({\"url\": \"https://www.chrismytton.com/plain-text-websites/\"}, config)"
   ]
  },
  {
   "cell_type": "code",
   "execution_count": 12,
   "id": "67c7b0cf",
   "metadata": {},
   "outputs": [
    {
     "data": {
      "text/plain": [
       "{'url': 'https://www.chrismytton.com/plain-text-websites/',\n",
       " 'result': '<!DOCTYPE html>\\n<html lang=\"en\" class=\"bg-zinc-50 dark:bg-zinc-800 text-zinc-800 dark:text-zinc-50\">\\n  <head>\\n    <meta charset=\"utf-8\">\\n    <meta http-equiv=\"X-UA-Compatible\" content=\"IE=edge\">\\n    <meta name=\"viewport\" content=\"width=device-width, initial-scale=1\">\\n    <title>Plain text websites – Chris Mytton</title>\\n\\n    <meta property=\"og:title\" content=\"Plain text websites\">\\n    <meta name=\"author\" content=\"Chris Mytton\">\\n    <meta property=\"og:locale\" content=\"en_GB\">\\n    <meta name=\"description\" content=\"In a world of web apps, videos, social media and multi-media distraction it&#39;s nice to know there are still some websites out there which use simple plain text\">\\n    <meta property=\"og:description\" content=\"In a world of web apps, videos, social media and multi-media distraction it&#39;s nice to know there are still some websites out there which use simple plain text\">\\n    <link rel=\"canonical\" href=\"https://www.chrismytton.com/plain-text-websites/\">\\n    <meta property=\"og:url\" content=\"https://www.chrismytton.com/plain-text-websites/\">\\n    <meta property=\"og:site_name\" content=\"Chris Mytton\">\\n    \\n    <meta property=\"og:image\" content=\"https://www.chrismytton.com/assets/images/plain-text-websites.jpg\">\\n    <meta property=\"twitter:image\" content=\"https://www.chrismytton.com/assets/images/plain-text-websites.jpg\">\\n    \\n    <meta name=\"twitter:card\" content=\"summary\">\\n    <meta property=\"twitter:title\" content=\"Plain text websites\">\\n    <meta name=\"twitter:site\" content=\"@chrismytton\">\\n    <meta name=\"twitter:creator\" content=\"@chrismytton\">\\n\\n    <link href=\"/tailwind.css\" rel=\"stylesheet\">\\n    <link href=\"/syntax-highlighting.css\" rel=\"stylesheet\">\\n    <link type=\"application/atom+xml\" rel=\"alternate\" href=\"/index.xml\" title=\"Chris Mytton\">\\n    <link rel=\"apple-touch-icon\" href=\"/apple-touch-icon.png\">\\n    <link rel=\"icon\" href=\"/favicon.png\">\\n    <script type=\"speculationrules\">\\n    {\\n      \"prerender\": [{\\n        \"where\": {\\n          \"href_matches\": \"/*\"\\n        },\\n        \"eagerness\": \"moderate\"\\n      }]\\n    }\\n    </script>\\n  </head>\\n\\n  <body class=\"container mx-auto p-6 mb-10\">\\n    <div class=\"mx-auto max-w-prose\">\\n\\n      <header class=\"flex flex-wrap gap-4 items-center mb-3\">\\n        <a class=\"mr-auto font-thin text-4xl\" href=\"/\">Chris Mytton</a>\\n\\n        <div class=\"flex flex-wrap gap-3\">\\n  <a class=\"hover:text-[#ff0000]\" target=\"_blank\" rel=\"noopener noreferrer me\" href=\"https://www.youtube.com/chrismytton\" title=\"Subscribe to my YouTube channel\" aria-label=\"Subscribe to my YouTube channel\">\\n    <svg xmlns=\"http://www.w3.org/2000/svg\" width=\"30\" height=\"30\" viewBox=\"0 0 24 24\"><path fill=\"currentColor\" d=\"M23,9.71a8.5,8.5,0,0,0-.91-4.13,2.92,2.92,0,0,0-1.72-1A78.36,78.36,0,0,0,12,4.27a78.45,78.45,0,0,0-8.34.3,2.87,2.87,0,0,0-1.46.74c-.9.83-1,2.25-1.1,3.45a48.29,48.29,0,0,0,0,6.48,9.55,9.55,0,0,0,.3,2,3.14,3.14,0,0,0,.71,1.36,2.86,2.86,0,0,0,1.49.78,45.18,45.18,0,0,0,6.5.33c3.5.05,6.57,0,10.2-.28a2.88,2.88,0,0,0,1.53-.78,2.49,2.49,0,0,0,.61-1,10.58,10.58,0,0,0,.52-3.4C23,13.69,23,10.31,23,9.71ZM9.74,14.85V8.66l5.92,3.11C14,12.69,11.81,13.73,9.74,14.85Z\"/></svg>\\n  </a>\\n  <a class=\"hover:text-[#d62976]\" target=\"_blank\" rel=\"noopener noreferrer me\" href=\"https://www.instagram.com/chrismytton/\" title=\"Follow me on Instagram\" aria-label=\"Follow me on Instagram\">\\n    <svg xmlns=\"http://www.w3.org/2000/svg\" width=\"30\" height=\"30\" viewBox=\"0 0 24 24\"><path fill=\"currentColor\" d=\"M17.34,5.46h0a1.2,1.2,0,1,0,1.2,1.2A1.2,1.2,0,0,0,17.34,5.46Zm4.6,2.42a7.59,7.59,0,0,0-.46-2.43,4.94,4.94,0,0,0-1.16-1.77,4.7,4.7,0,0,0-1.77-1.15,7.3,7.3,0,0,0-2.43-.47C15.06,2,14.72,2,12,2s-3.06,0-4.12.06a7.3,7.3,0,0,0-2.43.47A4.78,4.78,0,0,0,3.68,3.68,4.7,4.7,0,0,0,2.53,5.45a7.3,7.3,0,0,0-.47,2.43C2,8.94,2,9.28,2,12s0,3.06.06,4.12a7.3,7.3,0,0,0,.47,2.43,4.7,4.7,0,0,0,1.15,1.77,4.78,4.78,0,0,0,1.77,1.15,7.3,7.3,0,0,0,2.43.47C8.94,22,9.28,22,12,22s3.06,0,4.12-.06a7.3,7.3,0,0,0,2.43-.47,4.7,4.7,0,0,0,1.77-1.15,4.85,4.85,0,0,0,1.16-1.77,7.59,7.59,0,0,0,.46-2.43c0-1.06.06-1.4.06-4.12S22,8.94,21.94,7.88ZM20.14,16a5.61,5.61,0,0,1-.34,1.86,3.06,3.06,0,0,1-.75,1.15,3.19,3.19,0,0,1-1.15.75,5.61,5.61,0,0,1-1.86.34c-1,.05-1.37.06-4,.06s-3,0-4-.06A5.73,5.73,0,0,1,6.1,19.8,3.27,3.27,0,0,1,5,19.05a3,3,0,0,1-.74-1.15A5.54,5.54,0,0,1,3.86,16c0-1-.06-1.37-.06-4s0-3,.06-4A5.54,5.54,0,0,1,4.21,6.1,3,3,0,0,1,5,5,3.14,3.14,0,0,1,6.1,4.2,5.73,5.73,0,0,1,8,3.86c1,0,1.37-.06,4-.06s3,0,4,.06a5.61,5.61,0,0,1,1.86.34A3.06,3.06,0,0,1,19.05,5,3.06,3.06,0,0,1,19.8,6.1,5.61,5.61,0,0,1,20.14,8c.05,1,.06,1.37.06,4S20.19,15,20.14,16ZM12,6.87A5.13,5.13,0,1,0,17.14,12,5.12,5.12,0,0,0,12,6.87Zm0,8.46A3.33,3.33,0,1,1,15.33,12,3.33,3.33,0,0,1,12,15.33Z\"/></svg>\\n  </a>\\n  <a class=\"hover:opacity-70\" target=\"_blank\" rel=\"noopener noreferrer me\" href=\"https://x.com/chrismytton\" title=\"Follow me on Twitter\" aria-label=\"Follow me on Twitter\">\\n    <svg xmlns=\"http://www.w3.org/2000/svg\" width=\"29\" height=\"30\" viewBox=\"0 0 29 29\"><path fill=\"currentColor\" d=\"M 17.257812 12.273438 L 28.054688 0 L 25.496094 0 L 16.121094 10.65625 L 8.636719 0 L 0 0 L 11.320312 16.113281 L 0 28.984375 L 2.558594 28.984375 L 12.457031 17.730469 L 20.363281 28.984375 L 29 28.984375 Z M 13.753906 16.257812 L 12.609375 14.652344 L 3.480469 1.882812 L 7.410156 1.882812 L 14.777344 12.1875 L 15.921875 13.792969 L 25.496094 27.1875 L 21.566406 27.1875 Z M 13.753906 16.257812 \"/></svg>\\n  </a>\\n  <a class=\"hover:opacity-70\" target=\"_blank\" rel=\"noopener noreferrer me\" href=\"https://github.com/chrismytton\" title=\"Visit my GitHub\" aria-label=\"Visit my GitHub\">\\n    <svg xmlns=\"http://www.w3.org/2000/svg\" width=\"30\" height=\"30\" viewBox=\"0 0 24 24\"><path fill=\"currentColor\" d=\"M12 0c-6.626 0-12 5.373-12 12 0 5.302 3.438 9.8 8.207 11.387.599.111.793-.261.793-.577v-2.234c-3.338.726-4.033-1.416-4.033-1.416-.546-1.387-1.333-1.756-1.333-1.756-1.089-.745.083-.729.083-.729 1.205.084 1.839 1.237 1.839 1.237 1.07 1.834 2.807 1.304 3.492.997.107-.775.418-1.305.762-1.604-2.665-.305-5.467-1.334-5.467-5.931 0-1.311.469-2.381 1.236-3.221-.124-.303-.535-1.524.117-3.176 0 0 1.008-.322 3.301 1.23.957-.266 1.983-.399 3.003-.404 1.02.005 2.047.138 3.006.404 2.291-1.552 3.297-1.23 3.297-1.23.653 1.653.242 2.874.118 3.176.77.84 1.235 1.911 1.235 3.221 0 4.609-2.807 5.624-5.479 5.921.43.372.823 1.102.823 2.222v3.293c0 .319.192.694.801.576 4.765-1.589 8.199-6.086 8.199-11.386 0-6.627-5.373-12-12-12z\"/></svg>\\n  </a>\\n  <a class=\"hover:text-[#ee802f]\" target=\"_blank\" rel=\"noopener noreferrer\" href=\"/index.xml\" title=\"Subscribe to my feed\" aria-label=\"Subscribe to my feed\">\\n    <svg xmlns=\"http://www.w3.org/2000/svg\" width=\"30\" height=\"30\" viewBox=\"0 0 24 24\"><path fill=\"currentColor\" d=\"M6.503 20.752c0 1.794-1.456 3.248-3.251 3.248-1.796 0-3.252-1.454-3.252-3.248 0-1.794 1.456-3.248 3.252-3.248 1.795.001 3.251 1.454 3.251 3.248zm-6.503-12.572v4.811c6.05.062 10.96 4.966 11.022 11.009h4.817c-.062-8.71-7.118-15.758-15.839-15.82zm0-3.368c10.58.046 19.152 8.594 19.183 19.188h4.817c-.03-13.231-10.755-23.954-24-24v4.812z\"/></svg>\\n  </a>\\n</div>\\n\\n      </header>\\n      <div class=\"flex flex-wrap gap-5 text-2xl font-normal mb-10\">\\n  <a class=\"hover:underline\" href=\"/\">Home</a>\\n  <a class=\"hover:underline\" href=\"/articles/\">Articles</a>\\n  <a class=\"hover:underline\" href=\"/videos/\">Videos</a>\\n</div>\\n\\n\\n      <main>\\n        <div class=\"post\">\\n  <article class=\"mx-auto prose prose-stone dark:prose-invert prose-h1:font-normal prose-h2:font-normal\">\\n    <header class=\"post-header\">\\n      <h1 class=\"post-title\">Plain text websites</h1>\\n    </header>\\n\\n    <div class=\"post-content\">\\n      \\n<p>In a world of web apps, videos, social media and multi-media distraction it’s nice to know there are still some websites out there which use simple plain text.</p>\\n\\n<p>I came across <a href=\"https://sjmulder.nl/en/textonly.html\">Sijmen J. Mulder’s list of Hyperlinked Text websites</a> the other day, which is a list of websites that mostly use plain old HTML, and skip the JavaScript bloat that has become so common to the web these days.</p>\\n\\n<p>The sites on this page don’t have loads of adverts, or many images, they’re just simple plain text, and honestly it’s a pleasure reading them. They load fast and you can get straight to the content you’re after without scrolling past adverts and dismissing popups inviting you to provide your email address for dubious purposes.</p>\\n\\n    </div>\\n\\n    <footer>\\n      \\n        <div class=\"post-tags\">\\n          <p>\\n            Tagged:\\n            \\n            <a href=\"/tags/#writing\">#writing</a>\\n            \\n            <a href=\"/tags/#programming\">#programming</a>\\n            \\n            <a href=\"/tags/#minimalism\">#minimalism</a>\\n            \\n          </p>\\n        </div>\\n      \\n      <p class=\"post-date\">Published 14 January 2024</p>\\n    </footer>\\n\\n\\n  </article>\\n\\n</div>\\n\\n      </main>\\n\\n      <footer>\\n        <div class=\"flex flex-wrap gap-4 mt-10 mb-3\">\\n          <a class=\"mr-auto font-thin text-4xl\" href=\"/\">Chris Mytton</a>\\n\\n          <div class=\"flex flex-wrap gap-3\">\\n  <a class=\"hover:text-[#ff0000]\" target=\"_blank\" rel=\"noopener noreferrer me\" href=\"https://www.youtube.com/chrismytton\" title=\"Subscribe to my YouTube channel\" aria-label=\"Subscribe to my YouTube channel\">\\n    <svg xmlns=\"http://www.w3.org/2000/svg\" width=\"30\" height=\"30\" viewBox=\"0 0 24 24\"><path fill=\"currentColor\" d=\"M23,9.71a8.5,8.5,0,0,0-.91-4.13,2.92,2.92,0,0,0-1.72-1A78.36,78.36,0,0,0,12,4.27a78.45,78.45,0,0,0-8.34.3,2.87,2.87,0,0,0-1.46.74c-.9.83-1,2.25-1.1,3.45a48.29,48.29,0,0,0,0,6.48,9.55,9.55,0,0,0,.3,2,3.14,3.14,0,0,0,.71,1.36,2.86,2.86,0,0,0,1.49.78,45.18,45.18,0,0,0,6.5.33c3.5.05,6.57,0,10.2-.28a2.88,2.88,0,0,0,1.53-.78,2.49,2.49,0,0,0,.61-1,10.58,10.58,0,0,0,.52-3.4C23,13.69,23,10.31,23,9.71ZM9.74,14.85V8.66l5.92,3.11C14,12.69,11.81,13.73,9.74,14.85Z\"/></svg>\\n  </a>\\n  <a class=\"hover:text-[#d62976]\" target=\"_blank\" rel=\"noopener noreferrer me\" href=\"https://www.instagram.com/chrismytton/\" title=\"Follow me on Instagram\" aria-label=\"Follow me on Instagram\">\\n    <svg xmlns=\"http://www.w3.org/2000/svg\" width=\"30\" height=\"30\" viewBox=\"0 0 24 24\"><path fill=\"currentColor\" d=\"M17.34,5.46h0a1.2,1.2,0,1,0,1.2,1.2A1.2,1.2,0,0,0,17.34,5.46Zm4.6,2.42a7.59,7.59,0,0,0-.46-2.43,4.94,4.94,0,0,0-1.16-1.77,4.7,4.7,0,0,0-1.77-1.15,7.3,7.3,0,0,0-2.43-.47C15.06,2,14.72,2,12,2s-3.06,0-4.12.06a7.3,7.3,0,0,0-2.43.47A4.78,4.78,0,0,0,3.68,3.68,4.7,4.7,0,0,0,2.53,5.45a7.3,7.3,0,0,0-.47,2.43C2,8.94,2,9.28,2,12s0,3.06.06,4.12a7.3,7.3,0,0,0,.47,2.43,4.7,4.7,0,0,0,1.15,1.77,4.78,4.78,0,0,0,1.77,1.15,7.3,7.3,0,0,0,2.43.47C8.94,22,9.28,22,12,22s3.06,0,4.12-.06a7.3,7.3,0,0,0,2.43-.47,4.7,4.7,0,0,0,1.77-1.15,4.85,4.85,0,0,0,1.16-1.77,7.59,7.59,0,0,0,.46-2.43c0-1.06.06-1.4.06-4.12S22,8.94,21.94,7.88ZM20.14,16a5.61,5.61,0,0,1-.34,1.86,3.06,3.06,0,0,1-.75,1.15,3.19,3.19,0,0,1-1.15.75,5.61,5.61,0,0,1-1.86.34c-1,.05-1.37.06-4,.06s-3,0-4-.06A5.73,5.73,0,0,1,6.1,19.8,3.27,3.27,0,0,1,5,19.05a3,3,0,0,1-.74-1.15A5.54,5.54,0,0,1,3.86,16c0-1-.06-1.37-.06-4s0-3,.06-4A5.54,5.54,0,0,1,4.21,6.1,3,3,0,0,1,5,5,3.14,3.14,0,0,1,6.1,4.2,5.73,5.73,0,0,1,8,3.86c1,0,1.37-.06,4-.06s3,0,4,.06a5.61,5.61,0,0,1,1.86.34A3.06,3.06,0,0,1,19.05,5,3.06,3.06,0,0,1,19.8,6.1,5.61,5.61,0,0,1,20.14,8c.05,1,.06,1.37.06,4S20.19,15,20.14,16ZM12,6.87A5.13,5.13,0,1,0,17.14,12,5.12,5.12,0,0,0,12,6.87Zm0,8.46A3.33,3.33,0,1,1,15.33,12,3.33,3.33,0,0,1,12,15.33Z\"/></svg>\\n  </a>\\n  <a class=\"hover:opacity-70\" target=\"_blank\" rel=\"noopener noreferrer me\" href=\"https://x.com/chrismytton\" title=\"Follow me on Twitter\" aria-label=\"Follow me on Twitter\">\\n    <svg xmlns=\"http://www.w3.org/2000/svg\" width=\"29\" height=\"30\" viewBox=\"0 0 29 29\"><path fill=\"currentColor\" d=\"M 17.257812 12.273438 L 28.054688 0 L 25.496094 0 L 16.121094 10.65625 L 8.636719 0 L 0 0 L 11.320312 16.113281 L 0 28.984375 L 2.558594 28.984375 L 12.457031 17.730469 L 20.363281 28.984375 L 29 28.984375 Z M 13.753906 16.257812 L 12.609375 14.652344 L 3.480469 1.882812 L 7.410156 1.882812 L 14.777344 12.1875 L 15.921875 13.792969 L 25.496094 27.1875 L 21.566406 27.1875 Z M 13.753906 16.257812 \"/></svg>\\n  </a>\\n  <a class=\"hover:opacity-70\" target=\"_blank\" rel=\"noopener noreferrer me\" href=\"https://github.com/chrismytton\" title=\"Visit my GitHub\" aria-label=\"Visit my GitHub\">\\n    <svg xmlns=\"http://www.w3.org/2000/svg\" width=\"30\" height=\"30\" viewBox=\"0 0 24 24\"><path fill=\"currentColor\" d=\"M12 0c-6.626 0-12 5.373-12 12 0 5.302 3.438 9.8 8.207 11.387.599.111.793-.261.793-.577v-2.234c-3.338.726-4.033-1.416-4.033-1.416-.546-1.387-1.333-1.756-1.333-1.756-1.089-.745.083-.729.083-.729 1.205.084 1.839 1.237 1.839 1.237 1.07 1.834 2.807 1.304 3.492.997.107-.775.418-1.305.762-1.604-2.665-.305-5.467-1.334-5.467-5.931 0-1.311.469-2.381 1.236-3.221-.124-.303-.535-1.524.117-3.176 0 0 1.008-.322 3.301 1.23.957-.266 1.983-.399 3.003-.404 1.02.005 2.047.138 3.006.404 2.291-1.552 3.297-1.23 3.297-1.23.653 1.653.242 2.874.118 3.176.77.84 1.235 1.911 1.235 3.221 0 4.609-2.807 5.624-5.479 5.921.43.372.823 1.102.823 2.222v3.293c0 .319.192.694.801.576 4.765-1.589 8.199-6.086 8.199-11.386 0-6.627-5.373-12-12-12z\"/></svg>\\n  </a>\\n  <a class=\"hover:text-[#ee802f]\" target=\"_blank\" rel=\"noopener noreferrer\" href=\"/index.xml\" title=\"Subscribe to my feed\" aria-label=\"Subscribe to my feed\">\\n    <svg xmlns=\"http://www.w3.org/2000/svg\" width=\"30\" height=\"30\" viewBox=\"0 0 24 24\"><path fill=\"currentColor\" d=\"M6.503 20.752c0 1.794-1.456 3.248-3.251 3.248-1.796 0-3.252-1.454-3.252-3.248 0-1.794 1.456-3.248 3.252-3.248 1.795.001 3.251 1.454 3.251 3.248zm-6.503-12.572v4.811c6.05.062 10.96 4.966 11.022 11.009h4.817c-.062-8.71-7.118-15.758-15.839-15.82zm0-3.368c10.58.046 19.152 8.594 19.183 19.188h4.817c-.03-13.231-10.755-23.954-24-24v4.812z\"/></svg>\\n  </a>\\n</div>\\n\\n        </div>\\n        <div class=\"flex flex-wrap gap-5 text-2xl font-normal mb-10\">\\n  <a class=\"hover:underline\" href=\"/\">Home</a>\\n  <a class=\"hover:underline\" href=\"/articles/\">Articles</a>\\n  <a class=\"hover:underline\" href=\"/videos/\">Videos</a>\\n</div>\\n\\n        <div>\\n  <img class=\"float-right ml-4 rounded-full\" alt=\"Selfie of Chris Mytton standing in a field with a slightly blurred background\" width=\"100\" height=\"100\" src=\"/assets/images/profile-October-2019-square.jpg\">\\n\\n  <div class=\"mb-11 prose dark:prose-invert\">\\n    <p>\\n      This is my personal website where I share projects I\\'ve been working on and what I learn along the way.\\n    </p>\\n    <p>\\n      Get in touch:&nbsp;<a target=\"_blank\" rel=\"noopener noreferrer\" href=\"mailto:mail@chrismytton.com\">mail@chrismytton.com</a>\\n    </p>\\n  </div>\\n</div>\\n\\n      </footer>\\n    </div>\\n\\n  </body>\\n\\n</html>\\n'}"
      ]
     },
     "execution_count": 12,
     "metadata": {},
     "output_type": "execute_result"
    }
   ],
   "source": [
    "result"
   ]
  },
  {
   "cell_type": "code",
   "execution_count": null,
   "id": "12eea3c6",
   "metadata": {},
   "outputs": [
    {
     "data": {
      "text/plain": [
       "'<!DOCTYPE html>\\n<html lang=\"en\" class=\"bg-zinc-50 dark:bg-zinc-800 text-zinc-800 dark:text-zinc-50\">\\n  <head>\\n    <meta charset=\"utf-8\">\\n    <meta http-equiv=\"X-UA-Compatible\" content=\"IE=edge\">\\n    <meta name=\"viewport\" content=\"width=device-width, initial-scale=1\">\\n    <title>Plain text websites – Chris Mytton</title>\\n\\n    <meta property=\"og:title\" content=\"Plain text websites\">\\n    <meta name=\"author\" content=\"Chris Mytton\">\\n    <meta property=\"og:locale\" content=\"en_GB\">\\n    <meta name=\"description\" content=\"In a world of web apps, videos, social media and multi-media distraction it&#39;s nice to know there are still some websites out there which use simple plain text\">\\n    <meta property=\"og:description\" content=\"In a world of web apps, videos, social media and multi-media distraction it&#39;s nice to know there are still some websites out there which use simple plain text\">\\n    <link rel=\"canonical\" href=\"https://www.chrismytton.com/plain-text-websites/\">\\n    <meta property=\"og:url\" content=\"https://www.chrismytton.com/plain-text-websites/\">\\n    <meta property=\"og:site_name\" content=\"Chris Mytton\">\\n    \\n    <meta property=\"og:image\" content=\"https://www.chrismytton.com/assets/images/plain-text-websites.jpg\">\\n    <meta property=\"twitter:image\" content=\"https://www.chrismytton.com/assets/images/plain-text-websites.jpg\">\\n    \\n    <meta name=\"twitter:card\" content=\"summary\">\\n    <meta property=\"twitter:title\" content=\"Plain text websites\">\\n    <meta name=\"twitter:site\" content=\"@chrismytton\">\\n    <meta name=\"twitter:creator\" content=\"@chrismytton\">\\n\\n    <link href=\"/tailwind.css\" rel=\"stylesheet\">\\n    <link href=\"/syntax-highlighting.css\" rel=\"stylesheet\">\\n    <link type=\"application/atom+xml\" rel=\"alternate\" href=\"/index.xml\" title=\"Chris Mytton\">\\n    <link rel=\"apple-touch-icon\" href=\"/apple-touch-icon.png\">\\n    <link rel=\"icon\" href=\"/favicon.png\">\\n    <script type=\"speculationrules\">\\n    {\\n      \"prerender\": [{\\n        \"where\": {\\n          \"href_matches\": \"/*\"\\n        },\\n        \"eagerness\": \"moderate\"\\n      }]\\n    }\\n    </script>\\n  </head>\\n\\n  <body class=\"container mx-auto p-6 mb-10\">\\n    <div class=\"mx-auto max-w-prose\">\\n\\n      <header class=\"flex flex-wrap gap-4 items-center mb-3\">\\n        <a class=\"mr-auto font-thin text-4xl\" href=\"/\">Chris Mytton</a>\\n\\n        <div class=\"flex flex-wrap gap-3\">\\n  <a class=\"hover:text-[#ff0000]\" target=\"_blank\" rel=\"noopener noreferrer me\" href=\"https://www.youtube.com/chrismytton\" title=\"Subscribe to my YouTube channel\" aria-label=\"Subscribe to my YouTube channel\">\\n    <svg xmlns=\"http://www.w3.org/2000/svg\" width=\"30\" height=\"30\" viewBox=\"0 0 24 24\"><path fill=\"currentColor\" d=\"M23,9.71a8.5,8.5,0,0,0-.91-4.13,2.92,2.92,0,0,0-1.72-1A78.36,78.36,0,0,0,12,4.27a78.45,78.45,0,0,0-8.34.3,2.87,2.87,0,0,0-1.46.74c-.9.83-1,2.25-1.1,3.45a48.29,48.29,0,0,0,0,6.48,9.55,9.55,0,0,0,.3,2,3.14,3.14,0,0,0,.71,1.36,2.86,2.86,0,0,0,1.49.78,45.18,45.18,0,0,0,6.5.33c3.5.05,6.57,0,10.2-.28a2.88,2.88,0,0,0,1.53-.78,2.49,2.49,0,0,0,.61-1,10.58,10.58,0,0,0,.52-3.4C23,13.69,23,10.31,23,9.71ZM9.74,14.85V8.66l5.92,3.11C14,12.69,11.81,13.73,9.74,14.85Z\"/></svg>\\n  </a>\\n  <a class=\"hover:text-[#d62976]\" target=\"_blank\" rel=\"noopener noreferrer me\" href=\"https://www.instagram.com/chrismytton/\" title=\"Follow me on Instagram\" aria-label=\"Follow me on Instagram\">\\n    <svg xmlns=\"http://www.w3.org/2000/svg\" width=\"30\" height=\"30\" viewBox=\"0 0 24 24\"><path fill=\"currentColor\" d=\"M17.34,5.46h0a1.2,1.2,0,1,0,1.2,1.2A1.2,1.2,0,0,0,17.34,5.46Zm4.6,2.42a7.59,7.59,0,0,0-.46-2.43,4.94,4.94,0,0,0-1.16-1.77,4.7,4.7,0,0,0-1.77-1.15,7.3,7.3,0,0,0-2.43-.47C15.06,2,14.72,2,12,2s-3.06,0-4.12.06a7.3,7.3,0,0,0-2.43.47A4.78,4.78,0,0,0,3.68,3.68,4.7,4.7,0,0,0,2.53,5.45a7.3,7.3,0,0,0-.47,2.43C2,8.94,2,9.28,2,12s0,3.06.06,4.12a7.3,7.3,0,0,0,.47,2.43,4.7,4.7,0,0,0,1.15,1.77,4.78,4.78,0,0,0,1.77,1.15,7.3,7.3,0,0,0,2.43.47C8.94,22,9.28,22,12,22s3.06,0,4.12-.06a7.3,7.3,0,0,0,2.43-.47,4.7,4.7,0,0,0,1.77-1.15,4.85,4.85,0,0,0,1.16-1.77,7.59,7.59,0,0,0,.46-2.43c0-1.06.06-1.4.06-4.12S22,8.94,21.94,7.88ZM20.14,16a5.61,5.61,0,0,1-.34,1.86,3.06,3.06,0,0,1-.75,1.15,3.19,3.19,0,0,1-1.15.75,5.61,5.61,0,0,1-1.86.34c-1,.05-1.37.06-4,.06s-3,0-4-.06A5.73,5.73,0,0,1,6.1,19.8,3.27,3.27,0,0,1,5,19.05a3,3,0,0,1-.74-1.15A5.54,5.54,0,0,1,3.86,16c0-1-.06-1.37-.06-4s0-3,.06-4A5.54,5.54,0,0,1,4.21,6.1,3,3,0,0,1,5,5,3.14,3.14,0,0,1,6.1,4.2,5.73,5.73,0,0,1,8,3.86c1,0,1.37-.06,4-.06s3,0,4,.06a5.61,5.61,0,0,1,1.86.34A3.06,3.06,0,0,1,19.05,5,3.06,3.06,0,0,1,19.8,6.1,5.61,5.61,0,0,1,20.14,8c.05,1,.06,1.37.06,4S20.19,15,20.14,16ZM12,6.87A5.13,5.13,0,1,0,17.14,12,5.12,5.12,0,0,0,12,6.87Zm0,8.46A3.33,3.33,0,1,1,15.33,12,3.33,3.33,0,0,1,12,15.33Z\"/></svg>\\n  </a>\\n  <a class=\"hover:opacity-70\" target=\"_blank\" rel=\"noopener noreferrer me\" href=\"https://x.com/chrismytton\" title=\"Follow me on Twitter\" aria-label=\"Follow me on Twitter\">\\n    <svg xmlns=\"http://www.w3.org/2000/svg\" width=\"29\" height=\"30\" viewBox=\"0 0 29 29\"><path fill=\"currentColor\" d=\"M 17.257812 12.273438 L 28.054688 0 L 25.496094 0 L 16.121094 10.65625 L 8.636719 0 L 0 0 L 11.320312 16.113281 L 0 28.984375 L 2.558594 28.984375 L 12.457031 17.730469 L 20.363281 28.984375 L 29 28.984375 Z M 13.753906 16.257812 L 12.609375 14.652344 L 3.480469 1.882812 L 7.410156 1.882812 L 14.777344 12.1875 L 15.921875 13.792969 L 25.496094 27.1875 L 21.566406 27.1875 Z M 13.753906 16.257812 \"/></svg>\\n  </a>\\n  <a class=\"hover:opacity-70\" target=\"_blank\" rel=\"noopener noreferrer me\" href=\"https://github.com/chrismytton\" title=\"Visit my GitHub\" aria-label=\"Visit my GitHub\">\\n    <svg xmlns=\"http://www.w3.org/2000/svg\" width=\"30\" height=\"30\" viewBox=\"0 0 24 24\"><path fill=\"currentColor\" d=\"M12 0c-6.626 0-12 5.373-12 12 0 5.302 3.438 9.8 8.207 11.387.599.111.793-.261.793-.577v-2.234c-3.338.726-4.033-1.416-4.033-1.416-.546-1.387-1.333-1.756-1.333-1.756-1.089-.745.083-.729.083-.729 1.205.084 1.839 1.237 1.839 1.237 1.07 1.834 2.807 1.304 3.492.997.107-.775.418-1.305.762-1.604-2.665-.305-5.467-1.334-5.467-5.931 0-1.311.469-2.381 1.236-3.221-.124-.303-.535-1.524.117-3.176 0 0 1.008-.322 3.301 1.23.957-.266 1.983-.399 3.003-.404 1.02.005 2.047.138 3.006.404 2.291-1.552 3.297-1.23 3.297-1.23.653 1.653.242 2.874.118 3.176.77.84 1.235 1.911 1.235 3.221 0 4.609-2.807 5.624-5.479 5.921.43.372.823 1.102.823 2.222v3.293c0 .319.192.694.801.576 4.765-1.589 8.199-6.086 8.199-11.386 0-6.627-5.373-12-12-12z\"/></svg>\\n  </a>\\n  <a class=\"hover:text-[#ee802f]\" target=\"_blank\" rel=\"noopener noreferrer\" href=\"/index.xml\" title=\"Subscribe to my feed\" aria-label=\"Subscribe to my feed\">\\n    <svg xmlns=\"http://www.w3.org/2000/svg\" width=\"30\" height=\"30\" viewBox=\"0 0 24 24\"><path fill=\"currentColor\" d=\"M6.503 20.752c0 1.794-1.456 3.248-3.251 3.248-1.796 0-3.252-1.454-3.252-3.248 0-1.794 1.456-3.248 3.252-3.248 1.795.001 3.251 1.454 3.251 3.248zm-6.503-12.572v4.811c6.05.062 10.96 4.966 11.022 11.009h4.817c-.062-8.71-7.118-15.758-15.839-15.82zm0-3.368c10.58.046 19.152 8.594 19.183 19.188h4.817c-.03-13.231-10.755-23.954-24-24v4.812z\"/></svg>\\n  </a>\\n</div>\\n\\n      </header>\\n      <div class=\"flex flex-wrap gap-5 text-2xl font-normal mb-10\">\\n  <a class=\"hover:underline\" href=\"/\">Home</a>\\n  <a class=\"hover:underline\" href=\"/articles/\">Articles</a>\\n  <a class=\"hover:underline\" href=\"/videos/\">Videos</a>\\n</div>\\n\\n\\n      <main>\\n        <div class=\"post\">\\n  <article class=\"mx-auto prose prose-stone dark:prose-invert prose-h1:font-normal prose-h2:font-normal\">\\n    <header class=\"post-header\">\\n      <h1 class=\"post-title\">Plain text websites</h1>\\n    </header>\\n\\n    <div class=\"post-content\">\\n      \\n<p>In a world of web apps, videos, social media and multi-media distraction it’s nice to know there are still some websites out there which use simple plain text.</p>\\n\\n<p>I came across <a href=\"https://sjmulder.nl/en/textonly.html\">Sijmen J. Mulder’s list of Hyperlinked Text websites</a> the other day, which is a list of websites that mostly use plain old HTML, and skip the JavaScript bloat that has become so common to the web these days.</p>\\n\\n<p>The sites on this page don’t have loads of adverts, or many images, they’re just simple plain text, and honestly it’s a pleasure reading them. They load fast and you can get straight to the content you’re after without scrolling past adverts and dismissing popups inviting you to provide your email address for dubious purposes.</p>\\n\\n    </div>\\n\\n    <footer>\\n      \\n        <div class=\"post-tags\">\\n          <p>\\n            Tagged:\\n            \\n            <a href=\"/tags/#writing\">#writing</a>\\n            \\n            <a href=\"/tags/#programming\">#programming</a>\\n            \\n            <a href=\"/tags/#minimalism\">#minimalism</a>\\n            \\n          </p>\\n        </div>\\n      \\n      <p class=\"post-date\">Published 14 January 2024</p>\\n    </footer>\\n\\n\\n  </article>\\n\\n</div>\\n\\n      </main>\\n\\n      <footer>\\n        <div class=\"flex flex-wrap gap-4 mt-10 mb-3\">\\n          <a class=\"mr-auto font-thin text-4xl\" href=\"/\">Chris Mytton</a>\\n\\n          <div class=\"flex flex-wrap gap-3\">\\n  <a class=\"hover:text-[#ff0000]\" target=\"_blank\" rel=\"noopener noreferrer me\" href=\"https://www.youtube.com/chrismytton\" title=\"Subscribe to my YouTube channel\" aria-label=\"Subscribe to my YouTube channel\">\\n    <svg xmlns=\"http://www.w3.org/2000/svg\" width=\"30\" height=\"30\" viewBox=\"0 0 24 24\"><path fill=\"currentColor\" d=\"M23,9.71a8.5,8.5,0,0,0-.91-4.13,2.92,2.92,0,0,0-1.72-1A78.36,78.36,0,0,0,12,4.27a78.45,78.45,0,0,0-8.34.3,2.87,2.87,0,0,0-1.46.74c-.9.83-1,2.25-1.1,3.45a48.29,48.29,0,0,0,0,6.48,9.55,9.55,0,0,0,.3,2,3.14,3.14,0,0,0,.71,1.36,2.86,2.86,0,0,0,1.49.78,45.18,45.18,0,0,0,6.5.33c3.5.05,6.57,0,10.2-.28a2.88,2.88,0,0,0,1.53-.78,2.49,2.49,0,0,0,.61-1,10.58,10.58,0,0,0,.52-3.4C23,13.69,23,10.31,23,9.71ZM9.74,14.85V8.66l5.92,3.11C14,12.69,11.81,13.73,9.74,14.85Z\"/></svg>\\n  </a>\\n  <a class=\"hover:text-[#d62976]\" target=\"_blank\" rel=\"noopener noreferrer me\" href=\"https://www.instagram.com/chrismytton/\" title=\"Follow me on Instagram\" aria-label=\"Follow me on Instagram\">\\n    <svg xmlns=\"http://www.w3.org/2000/svg\" width=\"30\" height=\"30\" viewBox=\"0 0 24 24\"><path fill=\"currentColor\" d=\"M17.34,5.46h0a1.2,1.2,0,1,0,1.2,1.2A1.2,1.2,0,0,0,17.34,5.46Zm4.6,2.42a7.59,7.59,0,0,0-.46-2.43,4.94,4.94,0,0,0-1.16-1.77,4.7,4.7,0,0,0-1.77-1.15,7.3,7.3,0,0,0-2.43-.47C15.06,2,14.72,2,12,2s-3.06,0-4.12.06a7.3,7.3,0,0,0-2.43.47A4.78,4.78,0,0,0,3.68,3.68,4.7,4.7,0,0,0,2.53,5.45a7.3,7.3,0,0,0-.47,2.43C2,8.94,2,9.28,2,12s0,3.06.06,4.12a7.3,7.3,0,0,0,.47,2.43,4.7,4.7,0,0,0,1.15,1.77,4.78,4.78,0,0,0,1.77,1.15,7.3,7.3,0,0,0,2.43.47C8.94,22,9.28,22,12,22s3.06,0,4.12-.06a7.3,7.3,0,0,0,2.43-.47,4.7,4.7,0,0,0,1.77-1.15,4.85,4.85,0,0,0,1.16-1.77,7.59,7.59,0,0,0,.46-2.43c0-1.06.06-1.4.06-4.12S22,8.94,21.94,7.88ZM20.14,16a5.61,5.61,0,0,1-.34,1.86,3.06,3.06,0,0,1-.75,1.15,3.19,3.19,0,0,1-1.15.75,5.61,5.61,0,0,1-1.86.34c-1,.05-1.37.06-4,.06s-3,0-4-.06A5.73,5.73,0,0,1,6.1,19.8,3.27,3.27,0,0,1,5,19.05a3,3,0,0,1-.74-1.15A5.54,5.54,0,0,1,3.86,16c0-1-.06-1.37-.06-4s0-3,.06-4A5.54,5.54,0,0,1,4.21,6.1,3,3,0,0,1,5,5,3.14,3.14,0,0,1,6.1,4.2,5.73,5.73,0,0,1,8,3.86c1,0,1.37-.06,4-.06s3,0,4,.06a5.61,5.61,0,0,1,1.86.34A3.06,3.06,0,0,1,19.05,5,3.06,3.06,0,0,1,19.8,6.1,5.61,5.61,0,0,1,20.14,8c.05,1,.06,1.37.06,4S20.19,15,20.14,16ZM12,6.87A5.13,5.13,0,1,0,17.14,12,5.12,5.12,0,0,0,12,6.87Zm0,8.46A3.33,3.33,0,1,1,15.33,12,3.33,3.33,0,0,1,12,15.33Z\"/></svg>\\n  </a>\\n  <a class=\"hover:opacity-70\" target=\"_blank\" rel=\"noopener noreferrer me\" href=\"https://x.com/chrismytton\" title=\"Follow me on Twitter\" aria-label=\"Follow me on Twitter\">\\n    <svg xmlns=\"http://www.w3.org/2000/svg\" width=\"29\" height=\"30\" viewBox=\"0 0 29 29\"><path fill=\"currentColor\" d=\"M 17.257812 12.273438 L 28.054688 0 L 25.496094 0 L 16.121094 10.65625 L 8.636719 0 L 0 0 L 11.320312 16.113281 L 0 28.984375 L 2.558594 28.984375 L 12.457031 17.730469 L 20.363281 28.984375 L 29 28.984375 Z M 13.753906 16.257812 L 12.609375 14.652344 L 3.480469 1.882812 L 7.410156 1.882812 L 14.777344 12.1875 L 15.921875 13.792969 L 25.496094 27.1875 L 21.566406 27.1875 Z M 13.753906 16.257812 \"/></svg>\\n  </a>\\n  <a class=\"hover:opacity-70\" target=\"_blank\" rel=\"noopener noreferrer me\" href=\"https://github.com/chrismytton\" title=\"Visit my GitHub\" aria-label=\"Visit my GitHub\">\\n    <svg xmlns=\"http://www.w3.org/2000/svg\" width=\"30\" height=\"30\" viewBox=\"0 0 24 24\"><path fill=\"currentColor\" d=\"M12 0c-6.626 0-12 5.373-12 12 0 5.302 3.438 9.8 8.207 11.387.599.111.793-.261.793-.577v-2.234c-3.338.726-4.033-1.416-4.033-1.416-.546-1.387-1.333-1.756-1.333-1.756-1.089-.745.083-.729.083-.729 1.205.084 1.839 1.237 1.839 1.237 1.07 1.834 2.807 1.304 3.492.997.107-.775.418-1.305.762-1.604-2.665-.305-5.467-1.334-5.467-5.931 0-1.311.469-2.381 1.236-3.221-.124-.303-.535-1.524.117-3.176 0 0 1.008-.322 3.301 1.23.957-.266 1.983-.399 3.003-.404 1.02.005 2.047.138 3.006.404 2.291-1.552 3.297-1.23 3.297-1.23.653 1.653.242 2.874.118 3.176.77.84 1.235 1.911 1.235 3.221 0 4.609-2.807 5.624-5.479 5.921.43.372.823 1.102.823 2.222v3.293c0 .319.192.694.801.576 4.765-1.589 8.199-6.086 8.199-11.386 0-6.627-5.373-12-12-12z\"/></svg>\\n  </a>\\n  <a class=\"hover:text-[#ee802f]\" target=\"_blank\" rel=\"noopener noreferrer\" href=\"/index.xml\" title=\"Subscribe to my feed\" aria-label=\"Subscribe to my feed\">\\n    <svg xmlns=\"http://www.w3.org/2000/svg\" width=\"30\" height=\"30\" viewBox=\"0 0 24 24\"><path fill=\"currentColor\" d=\"M6.503 20.752c0 1.794-1.456 3.248-3.251 3.248-1.796 0-3.252-1.454-3.252-3.248 0-1.794 1.456-3.248 3.252-3.248 1.795.001 3.251 1.454 3.251 3.248zm-6.503-12.572v4.811c6.05.062 10.96 4.966 11.022 11.009h4.817c-.062-8.71-7.118-15.758-15.839-15.82zm0-3.368c10.58.046 19.152 8.594 19.183 19.188h4.817c-.03-13.231-10.755-23.954-24-24v4.812z\"/></svg>\\n  </a>\\n</div>\\n\\n        </div>\\n        <div class=\"flex flex-wrap gap-5 text-2xl font-normal mb-10\">\\n  <a class=\"hover:underline\" href=\"/\">Home</a>\\n  <a class=\"hover:underline\" href=\"/articles/\">Articles</a>\\n  <a class=\"hover:underline\" href=\"/videos/\">Videos</a>\\n</div>\\n\\n        <div>\\n  <img class=\"float-right ml-4 rounded-full\" alt=\"Selfie of Chris Mytton standing in a field with a slightly blurred background\" width=\"100\" height=\"100\" src=\"/assets/images/profile-October-2019-square.jpg\">\\n\\n  <div class=\"mb-11 prose dark:prose-invert\">\\n    <p>\\n      This is my personal website where I share projects I\\'ve been working on and what I learn along the way.\\n    </p>\\n    <p>\\n      Get in touch:&nbsp;<a target=\"_blank\" rel=\"noopener noreferrer\" href=\"mailto:mail@chrismytton.com\">mail@chrismytton.com</a>\\n    </p>\\n  </div>\\n</div>\\n\\n      </footer>\\n    </div>\\n\\n  </body>\\n\\n</html>\\n'"
      ]
     },
     "execution_count": 13,
     "metadata": {},
     "output_type": "execute_result"
    }
   ],
   "source": [
    "result[\"result\"]"
   ]
  },
  {
   "cell_type": "code",
   "execution_count": 14,
   "id": "8b49bb97",
   "metadata": {},
   "outputs": [
    {
     "data": {
      "text/plain": [
       "'https://www.chrismytton.com/plain-text-websites/'"
      ]
     },
     "execution_count": 14,
     "metadata": {},
     "output_type": "execute_result"
    }
   ],
   "source": [
    "result[\"url\"]"
   ]
  },
  {
   "cell_type": "markdown",
   "id": "5a4d067c",
   "metadata": {},
   "source": [
    "# with tool durable"
   ]
  },
  {
   "cell_type": "code",
   "execution_count": 15,
   "id": "60b97ae6",
   "metadata": {},
   "outputs": [
    {
     "data": {
      "text/plain": [
       "{'urls': ['https://www.chrismytton.com/plain-text-websites/']}"
      ]
     },
     "execution_count": 15,
     "metadata": {},
     "output_type": "execute_result"
    }
   ],
   "source": [
    "from typing import NotRequired\n",
    "from typing_extensions import TypedDict\n",
    "import uuid\n",
    "\n",
    "from langgraph.checkpoint.memory import MemorySaver\n",
    "from langgraph.func import task\n",
    "from langgraph.graph import StateGraph, START, END\n",
    "import requests\n",
    "\n",
    "# Define a TypedDict to represent the state\n",
    "class State(TypedDict):\n",
    "    urls: list[str]\n",
    "    result: NotRequired[list[str]]\n",
    "\n",
    "\n",
    "@task\n",
    "def _make_request(url: str):\n",
    "    \"\"\"Make a request.\"\"\"\n",
    "    return requests.get(url).text[:100]\n",
    "\n",
    "def call_api(state: State):\n",
    "    \"\"\"Example node that makes an API request.\"\"\"\n",
    "    requests = [_make_request(url) for url in state['urls']]\n",
    "    results = [request.result() for request in requests]\n",
    "    return {\n",
    "        \"results\": results\n",
    "    }\n",
    "\n",
    "# Create a StateGraph builder and add a node for the call_api function\n",
    "builder = StateGraph(State)\n",
    "builder.add_node(\"call_api\", call_api)\n",
    "\n",
    "# Connect the start and end nodes to the call_api node\n",
    "builder.add_edge(START, \"call_api\")\n",
    "builder.add_edge(\"call_api\", END)\n",
    "\n",
    "# Specify a checkpointer\n",
    "checkpointer = MemorySaver()\n",
    "\n",
    "# Compile the graph with the checkpointer\n",
    "graph = builder.compile(checkpointer=checkpointer)\n",
    "\n",
    "# Define a config with a thread ID.\n",
    "thread_id = uuid.uuid4()\n",
    "config = {\"configurable\": {\"thread_id\": thread_id}}\n",
    "\n",
    "# Invoke the graph\n",
    "graph.invoke({\"urls\": [\"https://www.chrismytton.com/plain-text-websites/\"]}, config)"
   ]
  },
  {
   "cell_type": "code",
   "execution_count": 17,
   "id": "5e615c15",
   "metadata": {},
   "outputs": [
    {
     "name": "stdout",
     "output_type": "stream",
     "text": [
      "Step 1: Making requests\n",
      "Calling _make_request with: url1\n",
      "Calling _make_request with: url2\n",
      "Calling _make_request with: url3\n",
      "Requests list: ['FakeRequestResult(url1)', 'FakeRequestResult(url2)', 'FakeRequestResult(url3)']\n",
      "\n",
      "Step 2: Getting results from requests\n",
      "Results list: ['FinalResult(FakeRequestResult(url1))', 'FinalResult(FakeRequestResult(url2))', 'FinalResult(FakeRequestResult(url3))']\n"
     ]
    }
   ],
   "source": [
    "# Simulate a function that returns a request object\n",
    "def _make_request(url):\n",
    "    print(f\"Calling _make_request with: {url}\")\n",
    "    return f\"FakeRequestResult({url})\"  # Simulated result object\n",
    "\n",
    "# Simulate state with a list of URLs\n",
    "state = {\n",
    "    'urls': ['url1', 'url2', 'url3']\n",
    "}\n",
    "\n",
    "# Step 1: Loop through URLs and call the function\n",
    "print(\"Step 1: Making requests\")\n",
    "requests = [_make_request(url) for url in state['urls']]\n",
    "print(\"Requests list:\", requests)\n",
    "\n",
    "# Step 2: Imagine .result() is used to get final values (we'll simulate that too)\n",
    "print(\"\\nStep 2: Getting results from requests\")\n",
    "results = [f\"FinalResult({req})\" for req in requests]\n",
    "print(\"Results list:\", results)\n"
   ]
  },
  {
   "cell_type": "code",
   "execution_count": 18,
   "id": "03cb04ef",
   "metadata": {},
   "outputs": [
    {
     "name": "stdout",
     "output_type": "stream",
     "text": [
      "\n",
      "        ╔══════ CodeWithDark's Neural Network Status ══════╗\n",
      "        ║ 🔋 Status    : Fully Charged & Ready            ║\n",
      "        ║ 🎯 Focus     : Python | AI/ML | Backend         ║\n",
      "        ║ 💻 Hardware  : GPU Upgrade in Progress...       ║\n",
      "        ║ 🌟 Mission   : Building AI for Everyone         ║\n",
      "        ║ 📊 Mood      : Optimistic & Innovative          ║\n",
      "        ╚══════════════════════════════════════════════════╝\n",
      "        \n"
     ]
    },
    {
     "name": "stderr",
     "output_type": "stream",
     "text": [
      "C:\\Users\\Shaheer\\AppData\\Local\\Temp\\ipykernel_16760\\2215508240.py:45: RuntimeWarning: coroutine 'DarkArchitecture.initialize_neural_networks' was never awaited\n",
      "  self.initialize_neural_networks()\n",
      "RuntimeWarning: Enable tracemalloc to get the object allocation traceback\n"
     ]
    }
   ],
   "source": [
    "from typing import Tuple, List, Dict, Optional\n",
    "from dataclasses import dataclass\n",
    "from datetime import datetime\n",
    "import asyncio\n",
    "\n",
    "class NeuralTerminal:\n",
    "    \"\"\"Advanced AI Development Interface\"\"\"\n",
    "    def __init__(self):\n",
    "        self.boot_time = datetime.now()\n",
    "        self.status = \"🔥 Optimizing Neural Pathways...\"\n",
    "        self.passion_level = float('inf')\n",
    "\n",
    "class CodeWithDark:\n",
    "    \"\"\"Core AI System Architecture\"\"\"\n",
    "    def __init__(self):\n",
    "        self.codename = \"CodeWithDark\"\n",
    "        self.version = \"2.0.0-beta\"\n",
    "        self.mission = \"Democratizing AI, One Line at a Time\"\n",
    "\n",
    "def GPU_poor_but_spirit_rich(cls):\n",
    "    \"\"\"\n",
    "    ⚠️ Hardware Status: GPU Bottleneck Detected\n",
    "    Current Reality: Integrated Graphics 😢\n",
    "    Dream Setup: NVIDIA RTX 4090 | Tesla A100 💫\n",
    "    Motto: \"Great code doesn't need great hardware, but it helps!\"\n",
    "    \"\"\"\n",
    "    return cls\n",
    "\n",
    "@dataclass\n",
    "class SystemSpecs:\n",
    "    processor: str\n",
    "    ram: str\n",
    "    gpu: Optional[str] = None\n",
    "    dreams: str = \"Unlimited\"\n",
    "\n",
    "@GPU_poor_but_spirit_rich\n",
    "class DarkArchitecture(CodeWithDark):\n",
    "    \"\"\"\n",
    "    🎯 Primary Interface for CodeWithDark's Development Ecosystem\n",
    "    Status: Online | Learning | Building | Sharing\n",
    "    \"\"\"\n",
    "    \n",
    "    def __init__(self):\n",
    "        super().__init__()\n",
    "        self.initialize_neural_networks()\n",
    "    \n",
    "    async def initialize_neural_networks(self):\n",
    "        \"\"\"Boot sequence for AI systems\"\"\"\n",
    "        await asyncio.sleep(0.1)  # Simulating deep learning\n",
    "        print(\"🧠 Neural pathways: Activated\")\n",
    "        print(\"📚 Knowledge base: Continuously expanding\")\n",
    "        print(\"🤝 Collaboration mode: Always ON\")\n",
    "\n",
    "    @property\n",
    "    def connect_with_me(self) -> Dict[str, str]:\n",
    "        \"\"\"\n",
    "        🌐 Multi-dimensional Communication Matrix\n",
    "        Status: Always Open for Innovation & Collaboration\n",
    "        \"\"\"\n",
    "        return {\n",
    "            \"professional\": \"linkedin.com/in/codewithdark\",\n",
    "            \"social\": \"facebook.com/codewithdark.fb\",\n",
    "            \"email\": \"codewithdark90@gmail.com\",\n",
    "            \"links\": \"linktr.ee/codewithdark\",\n",
    "            \"motto\": \"Let's build the future together! 🚀\"\n",
    "        }\n",
    "\n",
    "    @property\n",
    "    def human_interface(self) -> Dict[str, any]:\n",
    "        \"\"\"\n",
    "        🌍 Human-AI Interface Properties\n",
    "        \"\"\"\n",
    "        return {\n",
    "            \"languages\": ['Urdu', 'Poshto', 'English'],\n",
    "            \"age\": 19,\n",
    "            \"location\": \"🌍 Global Digital Nomad\",\n",
    "            \"timezone\": \"UTC+5 (Pakistan)\",\n",
    "            \"coffee_dependency\": \"High ☕\",\n",
    "            \"debugging_superpower\": \"Rubber Duck Debugging 🦆\"\n",
    "        }\n",
    "\n",
    "    @property\n",
    "    def tech_arsenal(self) -> Dict[str, any]:\n",
    "        \"\"\"\n",
    "        🛠️ Technical Capabilities & Arsenal\n",
    "        Status: Continuously Evolving & Upgrading\n",
    "        \"\"\"\n",
    "        return {\n",
    "            \"core_expertise\": {\n",
    "                \"🔥 expert\": [\"Python\", \"Computer Vision\", \"NLP\", \"Agentic AI\"],\n",
    "                \"📈 intermediate\": [\"LLMs\", \"vLLM\", \"Mathematics\", \"Deep Learning\"],\n",
    "                \"🌱 learning\": [\"Reinforcement Learning\", \"Julia\", \"JAX\", \"Quantum Computing\"]\n",
    "            },\n",
    "            \"specialization\": [\n",
    "                \"🤖 AI/ML Solution Architecture\",\n",
    "                \"🏗️ Backend System Design\",\n",
    "                \"🧠 Artificial Intelligence Research\",\n",
    "                \"📊 Data Science & Analytics\"\n",
    "            ],\n",
    "            \"development_environment\": {\n",
    "                \"preferred_ides\": [\"PyCharm 🐍\", \"VSCode ⚡\", \"Google Colab 🔬\"],\n",
    "                \"current_battlestation\": SystemSpecs(\n",
    "                    processor=\"Intel(R) Core(TM) i5-7300U CPU\",\n",
    "                    ram=\"8GB\",\n",
    "                    gpu=\"Integrated Graphics (The Struggle is Real)\",\n",
    "                ),\n",
    "                \"dream_setups\": {\n",
    "                    \"realistic_dream\": SystemSpecs(\n",
    "                        processor=\"Intel(R) Core(TM) i9-12900K\",\n",
    "                        ram=\"64GB\",\n",
    "                        gpu=\"NVIDIA GeForce RTX 4090\"\n",
    "                    ),\n",
    "                    \"ultimate_fantasy\": SystemSpecs(\n",
    "                        processor=\"AMD Ryzen 9 5950X\",\n",
    "                        ram=\"128GB\",\n",
    "                        gpu=\"NVIDIA Tesla A100 (One can dream!)\"\n",
    "                    )\n",
    "                }\n",
    "            },\n",
    "            \"cloud_platforms\": [\"AWS ☁️\", \"GCP 🌐\", \"Azure 💙\"],\n",
    "            \"favorite_frameworks\": [\"PyTorch 🔥\", \"Transformers 🧠\", \"JAX 👾\", \"FastAPI ⚡\"]\n",
    "        }\n",
    "\n",
    "    def current_projects(self) -> List[str]:\n",
    "        \"\"\"\n",
    "        🚧 What I'm Currently Building\n",
    "        \"\"\"\n",
    "        return [\n",
    "            \"🤖 Custom LLM Fine-tuning Pipeline\",\n",
    "            \"👁️ Computer Vision for Medical Imaging\",\n",
    "            \"🔊 NLP Sentiment Analysis Tool\",\n",
    "            \"🌟 Open Source AI Utilities\",\n",
    "            \"📚 AI Education Content\"\n",
    "        ]\n",
    "\n",
    "    def fun_facts(self) -> List[str]:\n",
    "        \"\"\"\n",
    "        🎲 Random Facts About This Human\n",
    "        \"\"\"\n",
    "        return [\n",
    "            \"🌙 I code better at night (Night Owl Developer)\",\n",
    "            \"🧠 I train neural networks while drinking chai ☕\",\n",
    "            \"🐍 Python is my native language (literally dream in it)\",\n",
    "            \"⚡ I optimize algorithms for fun, not just work\",\n",
    "            \"📖 I read research papers like novels\",\n",
    "            \"🚀 My GitHub is my second home\"\n",
    "        ]\n",
    "\n",
    "    def __str__(self) -> str:\n",
    "        return f\"\"\"\n",
    "        ╔══════ CodeWithDark's Neural Network Status ══════╗\n",
    "        ║ 🔋 Status    : Fully Charged & Ready            ║\n",
    "        ║ 🎯 Focus     : Python | AI/ML | Backend         ║\n",
    "        ║ 💻 Hardware  : GPU Upgrade in Progress...       ║\n",
    "        ║ 🌟 Mission   : Building AI for Everyone         ║\n",
    "        ║ 📊 Mood      : Optimistic & Innovative          ║\n",
    "        ╚══════════════════════════════════════════════════╝\n",
    "        \"\"\"\n",
    "\n",
    "# Initialize the system\n",
    "dark_system = DarkArchitecture()\n",
    "print(dark_system)"
   ]
  },
  {
   "cell_type": "code",
   "execution_count": null,
   "id": "38a8c8d4",
   "metadata": {},
   "outputs": [],
   "source": []
  }
 ],
 "metadata": {
  "kernelspec": {
   "display_name": "Python 3",
   "language": "python",
   "name": "python3"
  },
  "language_info": {
   "codemirror_mode": {
    "name": "ipython",
    "version": 3
   },
   "file_extension": ".py",
   "mimetype": "text/x-python",
   "name": "python",
   "nbconvert_exporter": "python",
   "pygments_lexer": "ipython3",
   "version": "3.12.4"
  }
 },
 "nbformat": 4,
 "nbformat_minor": 5
}
