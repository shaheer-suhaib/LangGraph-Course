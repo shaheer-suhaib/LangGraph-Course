{
 "cells": [
  {
   "cell_type": "code",
   "execution_count": 3,
   "id": "77cd57b2",
   "metadata": {},
   "outputs": [],
   "source": [
    "from typing import Any, TypedDict\n",
    "\n",
    "from langchain.chat_models import init_chat_model\n",
    "from langchain_core.messages import AnyMessage\n",
    "from langchain_core.messages.utils import count_tokens_approximately\n",
    "from langgraph.graph import StateGraph, START, MessagesState\n",
    "from langgraph.checkpoint.memory import InMemorySaver\n",
    "\n",
    "from dotenv import load_dotenv\n",
    "import os\n",
    "from langchain_google_genai import ChatGoogleGenerativeAI\n",
    "\n",
    "\n",
    "load_dotenv()\n",
    "GEMINI_API_KEY = os.getenv(\"GEMINI_API_KEYYY\")\n",
    "model = ChatGoogleGenerativeAI(model=\"gemini-1.5-flash\",google_api_key=  GEMINI_API_KEY )\n"
   ]
  },
  {
   "cell_type": "code",
   "execution_count": null,
   "id": "79737746",
   "metadata": {},
   "outputs": [
    {
     "data": {
      "text/plain": [
       "AIMessage(content='Hi there! How can I help you today?', additional_kwargs={}, response_metadata={'prompt_feedback': {'block_reason': 0, 'safety_ratings': []}, 'finish_reason': 'STOP', 'model_name': 'gemini-1.5-flash', 'safety_ratings': []}, id='run--bc7b02f5-69db-46a3-af53-ef414804bb02-0', usage_metadata={'input_tokens': 1, 'output_tokens': 11, 'total_tokens': 12, 'input_token_details': {'cache_read': 0}})"
      ]
     },
     "execution_count": 2,
     "metadata": {},
     "output_type": "execute_result"
    },
    {
     "ename": "",
     "evalue": "",
     "output_type": "error",
     "traceback": [
      "\u001b[1;31mnotebook controller is DISPOSED. \n",
      "\u001b[1;31mView Jupyter <a href='command:jupyter.viewOutput'>log</a> for further details."
     ]
    }
   ],
   "source": [
    "model.invoke(\"hi\")"
   ]
  },
  {
   "cell_type": "code",
   "execution_count": 4,
   "id": "c9775a01",
   "metadata": {},
   "outputs": [],
   "source": [
    "\n",
    "\n",
    "from typing import Annotated, Sequence\n",
    "from langgraph.graph import MessagesState, StateGraph, START, END\n",
    "from langgraph.graph.message import add_messages\n",
    "from langchain_core.messages import BaseMessage, HumanMessage, AIMessage, RemoveMessage\n",
    "from langchain_openai import ChatOpenAI\n",
    "import os\n",
    "\n",
    "\n",
    "# Define our enhanced state with summary capability\n",
    "class ConversationState(MessagesState):\n",
    "    \"\"\"Extended state that includes conversation summary\"\"\"\n",
    "    summary: str = \"\"\n",
    "    message_count: int = 0\n",
    "\n",
    "# Configurationn\n",
    "MAX_MESSAGES_BEFORE_SUMMARY = 6  # Summarize after every 6 messages\n",
    "KEEP_RECENT_MESSAGES = 2  # Keep 2 most recent messages after summarization\n",
    "\n",
    "def chatbot_node(state: ConversationState):\n",
    "    \"\"\"Main chatbot logic - responds to user messages\"\"\"\n",
    "    # Get the conversation context\n",
    "    messages = state[\"messages\"]\n",
    "    summary = state.get(\"summary\", \"\")\n",
    "    \n",
    "    # If we have a summary, add it as context (but don't include in actual messages)\n",
    "    context_messages = messages.copy()\n",
    "    if summary:\n",
    "        # Add summary as system context for better responses\n",
    "        system_message = HumanMessage(\n",
    "            content=f\"[Previous conversation summary: {summary}]\\n\\nPlease respond naturally to the conversation, taking the summary into account for context.\"\n",
    "        )\n",
    "        context_messages = [system_message] + context_messages[-3:]  # Use last 3 messages + summary\n",
    "    else:\n",
    "        context_messages = state[\"messages\"]\n",
    "    \n",
    "    # Generate response\n",
    "    response = model.invoke(context_messages)\n",
    "    \n",
    "    return {\n",
    "        \"messages\": [response],\n",
    "        \"message_count\": state[\"message_count\"] + 1\n",
    "    }\n",
    "\n",
    "def should_summarize(state: ConversationState) -> str:\n",
    "    \"\"\"Decide whether to summarize based on message count\"\"\"\n",
    "    if state[\"message_count\"] >= MAX_MESSAGES_BEFORE_SUMMARY:\n",
    "        return \"summarize\"\n",
    "    return \"END\"\n",
    "\n",
    "def summarize_conversation(state: ConversationState):\n",
    "\n",
    "    # First, we get any existing summary\n",
    "    summary = state.get(\"summary\", \"\")\n",
    "\n",
    "    # Create our summarization prompt\n",
    "    if summary:\n",
    "\n",
    "        # A summary already exists\n",
    "        summary_message = (\n",
    "            f\"This is a summary of the conversation to date: {summary}\\n\\n\"\n",
    "            \"Extend the summary by taking into account the new messages above:\"\n",
    "        )\n",
    "\n",
    "    else:\n",
    "        summary_message = \"Create a summary of the conversation above:\"\n",
    "\n",
    "    # Add prompt to our history\n",
    "    messages = state[\"messages\"] + [HumanMessage(content=summary_message)]\n",
    "    response = model.invoke(messages)\n",
    "\n",
    "    # Delete all but the 2 most recent messages\n",
    "    delete_messages = [RemoveMessage(id=m.id) for m in state[\"messages\"][:-2]]\n",
    "    return {\"summary\": response.content, \"messages\": delete_messages}\n",
    "    \n",
    "    \n",
    "\n"
   ]
  },
  {
   "cell_type": "code",
   "execution_count": 5,
   "id": "029b3be7",
   "metadata": {},
   "outputs": [],
   "source": [
    "    checkpointer= InMemorySaver()\n",
    "    workflow = StateGraph(ConversationState)\n",
    "    \n",
    "    # Add nodes\n",
    "    workflow.add_node(\"chatbot\", chatbot_node)\n",
    "    workflow.add_node(\"summarize\", summarize_conversation)\n",
    "    \n",
    "    # Define the flow\n",
    "    workflow.add_edge(START, \"chatbot\")\n",
    "    workflow.add_conditional_edges(\n",
    "        \"chatbot\",\n",
    "        should_summarize,\n",
    "        {\n",
    "            \"summarize\": \"summarize\",\n",
    "            \"END\": END\n",
    "        }\n",
    "    )\n",
    "    workflow.add_edge(\"summarize\",END)\n",
    "    workflow.add_edge(\"chatbot\",END) \n",
    "\n",
    "    app =workflow.compile(checkpointer=checkpointer)"
   ]
  },
  {
   "cell_type": "code",
   "execution_count": 6,
   "id": "c08e3ff8",
   "metadata": {},
   "outputs": [
    {
     "data": {
      "image/png": "[encoded data removed]",
      "text/plain": [
       "<langgraph.graph.state.CompiledStateGraph object at 0x000001CE9A085D60>"
      ]
     },
     "execution_count": 6,
     "metadata": {},
     "output_type": "execute_result"
    }
   ],
   "source": [
    "workflow.compile(checkpointer=checkpointer)"
   ]
  },
  {
   "cell_type": "code",
   "execution_count": 7,
   "id": "892ce276",
   "metadata": {},
   "outputs": [
    {
     "data": {
      "text/plain": [
       "{'messages': [HumanMessage(content='one line asswer who is uk', additional_kwargs={}, response_metadata={}, id='2268de83-8e95-43e1-9830-d4d741e3cc1f'),\n",
       "  AIMessage(content='The United Kingdom is a sovereign country in Europe.', additional_kwargs={}, response_metadata={'prompt_feedback': {'block_reason': 0, 'safety_ratings': []}, 'finish_reason': 'STOP', 'model_name': 'gemini-1.5-flash', 'safety_ratings': []}, id='run--33489e19-f1d6-4b4d-a8e7-feadb4915cdc-0', usage_metadata={'input_tokens': 7, 'output_tokens': 11, 'total_tokens': 18, 'input_token_details': {'cache_read': 0}})],\n",
       " 'summary': '',\n",
       " 'message_count': 5}"
      ]
     },
     "execution_count": 7,
     "metadata": {},
     "output_type": "execute_result"
    }
   ],
   "source": [
    "config = {\"configurable\": {\"thread_id\": 124}}\n",
    "current_state = {       \n",
    "        \"messages\": [HumanMessage(content=\"one line asswer who is uk\")],\n",
    "        \"summary\":\"\",\n",
    "        \"message_count\":4\n",
    "}\n",
    "a =app.invoke(current_state,config=config)\n",
    "\n",
    "a"
   ]
  },
  {
   "cell_type": "code",
   "execution_count": 11,
   "id": "7d220de4",
   "metadata": {},
   "outputs": [
    {
     "data": {
      "text/plain": [
       "{'messages': [HumanMessage(content='one line asswer who is paksitan', additional_kwargs={}, response_metadata={}, id='0d4e0322-9991-4852-9b8b-e9595de10757'),\n",
       "  AIMessage(content='Pakistan is a country in South Asia.', additional_kwargs={}, response_metadata={'prompt_feedback': {'block_reason': 0, 'safety_ratings': []}, 'finish_reason': 'STOP', 'model_name': 'gemini-1.5-flash', 'safety_ratings': []}, id='run--198ce481-9f94-4b09-a0a3-2759f0340cde-0', usage_metadata={'input_tokens': 85, 'output_tokens': 9, 'total_tokens': 94, 'input_token_details': {'cache_read': 0}})],\n",
       " 'summary': 'The conversation began with a greeting, then moved to identifying the UK and Pakistan in single-line answers.',\n",
       " 'message_count': 6}"
      ]
     },
     "execution_count": 11,
     "metadata": {},
     "output_type": "execute_result"
    }
   ],
   "source": [
    "current_state = {       \n",
    "        \"messages\": [HumanMessage(content=\"one line asswer who is paksitan\")],\n",
    "}\n",
    "a =app.invoke(current_state,config=config)\n",
    "a"
   ]
  },
  {
   "cell_type": "code",
   "execution_count": 13,
   "id": "a91a179e",
   "metadata": {},
   "outputs": [
    {
     "data": {
      "text/plain": [
       "2"
      ]
     },
     "execution_count": 13,
     "metadata": {},
     "output_type": "execute_result"
    }
   ],
   "source": [
    "len(a[\"messages\"])"
   ]
  },
  {
   "cell_type": "code",
   "execution_count": null,
   "id": "dab4cabc",
   "metadata": {},
   "outputs": [],
   "source": []
  }
 ],
 "metadata": {
  "kernelspec": {
   "display_name": "Python 3",
   "language": "python",
   "name": "python3"
  },
  "language_info": {
   "codemirror_mode": {
    "name": "ipython",
    "version": 3
   },
   "file_extension": ".py",
   "mimetype": "text/x-python",
   "name": "python",
   "nbconvert_exporter": "python",
   "pygments_lexer": "ipython3",
   "version": "3.12.4"
  }
 },
 "nbformat": 4,
 "nbformat_minor": 5
}
