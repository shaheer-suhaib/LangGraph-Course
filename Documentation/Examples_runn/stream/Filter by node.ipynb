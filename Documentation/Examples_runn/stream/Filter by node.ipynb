{
 "cells": [
  {
   "cell_type": "code",
   "execution_count": 1,
   "id": "da671842",
   "metadata": {},
   "outputs": [],
   "source": [
    "from langchain_google_genai import ChatGoogleGenerativeAI\n",
    "from dotenv import load_dotenv\n",
    "import os\n",
    "\n",
    "\n",
    "load_dotenv()\n",
    "GEMINI_API_KEY = os.getenv(\"GEMINI_API_KEYY\")\n",
    "\n"
   ]
  },
  {
   "cell_type": "code",
   "execution_count": null,
   "id": "3ca4d7ca",
   "metadata": {},
   "outputs": [],
   "source": [
    "from typing import TypedDict\n",
    "from langgraph.graph import START, StateGraph \n",
    "from langchain_openai import ChatOpenAI\n",
    "\n",
    "model =ChatGoogleGenerativeAI(\n",
    "    model=\"gemini-1.5-flash\",\n",
    "    google_api_key=GEMINI_API_KEY\n",
    ")\n",
    "\n",
    "\n",
    "class State(TypedDict):\n",
    "      topic: str\n",
    "      joke: str\n",
    "      poem: str\n",
    "\n",
    "\n",
    "def write_joke(state: State):\n",
    "      topic = state[\"topic\"]\n",
    "      joke_response = model.invoke(\n",
    "            [{\"role\": \"user\", \"content\": f\"Write a joke about {topic}\"}]\n",
    "      )\n",
    "      return {\"joke\": joke_response.content}\n",
    "\n",
    "\n",
    "def write_poem(state: State):\n",
    "      topic = state[\"topic\"]\n",
    "      poem_response = model.invoke(\n",
    "            [{\"role\": \"user\", \"content\": f\"Write a short poem about {topic}\"}]\n",
    "      )\n",
    "      return {\"poem\": poem_response.content}\n",
    "\n",
    "\n",
    "graph = (\n",
    "      StateGraph(State)\n",
    "      .add_node(write_joke)\n",
    "      .add_node(write_poem)\n",
    "      # write both the joke and the poem concurrently\n",
    "      .add_edge(START, \"write_joke\")\n",
    "      .add_edge(START, \"write_poem\")\n",
    "      .compile()\n",
    ")\n"
   ]
  },
  {
   "cell_type": "code",
   "execution_count": 3,
   "id": "4c3ad032",
   "metadata": {},
   "outputs": [
    {
     "data": {
      "image/png": "[encoded data removed]",
      "text/plain": [
       "<langgraph.graph.state.CompiledStateGraph object at 0x0000026619A733B0>"
      ]
     },
     "execution_count": 3,
     "metadata": {},
     "output_type": "execute_result"
    }
   ],
   "source": [
    "graph"
   ]
  },
  {
   "cell_type": "code",
   "execution_count": null,
   "id": "a80d85b0",
   "metadata": {},
   "outputs": [
    {
     "name": "stdout",
     "output_type": "stream",
     "text": [
      "A| velvet paw, a silent tread,\n",
      "Emerald eyes, a sunlit bed.|\n",
      "A rumbling purr, a gentle knead,\n",
      "A feline grace,| a whispered creed.\n",
      "Then sudden leap, a playful chase,\n",
      "A kingly air, a regal grace.\n",
      "|"
     ]
    }
   ],
   "source": [
    "\n",
    "for msg, metadata in graph.stream( \n",
    "    {\"topic\": \"cats\"},\n",
    "    stream_mode=\"messages\",\n",
    "):\n",
    "    \n",
    "    if msg.content and metadata[\"langgraph_node\"] == \"write_poem\": \n",
    "        print(msg.content, end=\"|\", flush=True)\n",
    "        \n",
    "\n"
   ]
  },
  {
   "cell_type": "markdown",
   "id": "011fb3b2",
   "metadata": {},
   "source": [
    "# tags\n",
    "✅ Use Case: Filter by Task Type Across Multiple Nodes\n",
    "🎯 Goal: You have multiple steps, but want to stream only generation-related outputs (skip summaries, logs, etc.)\n",
    "python\n",
    "Copy\n",
    "Edit\n",
    "gen_llm = model.with_config({\"tags\": [\"generation\"]})\n",
    "log_llm = model.with_config({\"tags\": [\"log\"]})\n",
    "summary_llm = model.with_config({\"tags\": [\"summary\"]})\n",
    "Each LLM is in a different node, e.g.:\n",
    "\n",
    "\"write_intro\"\n",
    "\n",
    "\"log_query\"\n",
    "\n",
    "\"summarize_result\"\n",
    "\n",
    "✅ Stream filtering:\n",
    "python\n",
    "Copy\n",
    "Edit\n",
    "if \"generation\" in metadata[\"tags\"]:\n",
    "    print(\"🧠 Main reply:\", msg.content)"
   ]
  },
  {
   "cell_type": "code",
   "execution_count": null,
   "id": "5c167a67",
   "metadata": {},
   "outputs": [],
   "source": []
  }
 ],
 "metadata": {
  "kernelspec": {
   "display_name": "Python 3",
   "language": "python",
   "name": "python3"
  },
  "language_info": {
   "codemirror_mode": {
    "name": "ipython",
    "version": 3
   },
   "file_extension": ".py",
   "mimetype": "text/x-python",
   "name": "python",
   "nbconvert_exporter": "python",
   "pygments_lexer": "ipython3",
   "version": "3.12.4"
  }
 },
 "nbformat": 4,
 "nbformat_minor": 5
}
