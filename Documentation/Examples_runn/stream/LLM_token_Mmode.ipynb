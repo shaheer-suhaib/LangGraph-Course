{
 "cells": [
  {
   "cell_type": "code",
   "execution_count": 16,
   "id": "ee8e80d4",
   "metadata": {},
   "outputs": [
    {
     "data": {
      "text/plain": [
       "[{'role': 'system', 'content': 'Optional system instruction'},\n",
       " {'role': 'user', 'content': \"User's message or question\"},\n",
       " {'role': 'assistant', 'content': 'Optional previous response (if any)'},\n",
       " Ellipsis]"
      ]
     },
     "execution_count": 16,
     "metadata": {},
     "output_type": "execute_result"
    }
   ],
   "source": [
    "[\n",
    "  {\"role\": \"system\", \"content\": \"Optional system instruction\"},\n",
    "  {\"role\": \"user\", \"content\": \"User's message or question\"},\n",
    "  {\"role\": \"assistant\", \"content\": \"Optional previous response (if any)\"},\n",
    "  ...\n",
    "]\n"
   ]
  },
  {
   "cell_type": "code",
   "execution_count": 17,
   "id": "8abacb88",
   "metadata": {},
   "outputs": [],
   "source": [
    "from dataclasses import dataclass\n",
    "\n",
    "#from langchain.chat_models import init_chat_model\n",
    "from langgraph.graph import StateGraph, START\n",
    "\n",
    "from langchain_google_genai import ChatGoogleGenerativeAI\n",
    "from dotenv import load_dotenv\n",
    "import os\n",
    "\n",
    "@dataclass\n",
    "class MyState:\n",
    "    topic: str\n",
    "    joke: str = \"\"\n",
    "\n",
    "load_dotenv()\n",
    "GEMINI_API_KEY = os.getenv(\"GEMINI_API_KEYY\")\n",
    "\n",
    "# Step 1: Create a Gemini model\n",
    "llm = ChatGoogleGenerativeAI(\n",
    "    model=\"gemini-1.5-flash\",\n",
    "    google_api_key=GEMINI_API_KEY\n",
    ")\n",
    "\n",
    "def call_model(state: MyState):\n",
    "    \"\"\"Call the LLM to generate a joke about a topic\"\"\"\n",
    "    llm_response = llm.invoke( \n",
    "        [\n",
    "            {\"role\": \"user\", \"content\": f\"Generate a joke about {state.topic}\"}\n",
    "        ]\n",
    "    )\n",
    "    return {\"joke\": llm_response.content}\n",
    "\n",
    "graph = (\n",
    "    StateGraph(MyState)\n",
    "    .add_node(call_model)\n",
    "    .add_edge(START, \"call_model\")\n",
    "    .compile()\n",
    ")\n"
   ]
  },
  {
   "cell_type": "code",
   "execution_count": 18,
   "id": "bf03f32a",
   "metadata": {},
   "outputs": [
    {
     "name": "stdout",
     "output_type": "stream",
     "text": [
      ".........................................\n",
      "content='Why' additional_kwargs={} response_metadata={'safety_ratings': []} id='run--e9944d4d-0076-4a52-8a6d-7b9d20785999'\n",
      ".........................................\n",
      ".........................................\n",
      "content=' did the ice cream go to the police?  Because it got *sundae' additional_kwargs={} response_metadata={'safety_ratings': []} id='run--e9944d4d-0076-4a52-8a6d-7b9d20785999'\n",
      ".........................................\n",
      ".........................................\n",
      "content='*d!\\n' additional_kwargs={} response_metadata={'finish_reason': 'STOP', 'model_name': 'gemini-1.5-flash', 'safety_ratings': []} id='run--e9944d4d-0076-4a52-8a6d-7b9d20785999'\n",
      ".........................................\n"
     ]
    }
   ],
   "source": [
    "\n",
    "for message_chunk, metadata in graph.stream( \n",
    "    {\"topic\": \"ice cream\"},\n",
    "    stream_mode=\"messages\",\n",
    "    \n",
    "):\n",
    "    \n",
    "    print(\".........................................\")\n",
    "    print(message_chunk)\n",
    "    print(\".........................................\")\n",
    "\n",
    "    # if message_chunk.content:\n",
    "    #     print(message_chunk.content,  flush=True)\n",
    "\n",
    "    # print(\"\\n\")\n",
    "    # print()\n",
    "    # print(metadata)"
   ]
  },
  {
   "cell_type": "code",
   "execution_count": 13,
   "id": "f8f24e28",
   "metadata": {},
   "outputs": [
    {
     "data": {
      "text/plain": [
       "{'content': 'string',\n",
       " 'additional_kwargs': {},\n",
       " 'response_metadata': {'finish_reason': 'string',\n",
       "  'model_name': 'string',\n",
       "  'safety_ratings': [],\n",
       "  'token_usage': {'prompt_tokens': int,\n",
       "   'completion_tokens': int,\n",
       "   'total_tokens': int}},\n",
       " 'id': 'run-uuid-here',\n",
       " 'type': 'AIMessage'}"
      ]
     },
     "execution_count": 13,
     "metadata": {},
     "output_type": "execute_result"
    }
   ],
   "source": [
    "{\n",
    "    \"content\": \"string\",              # The actual text content\n",
    "    \"additional_kwargs\": {},          # Extra parameters/metadata\n",
    "    \"response_metadata\": {            # Response-specific metadata\n",
    "        \"finish_reason\": \"string\",    # \"STOP\", \"LENGTH\", \"CONTENT_FILTER\", etc.\n",
    "        \"model_name\": \"string\",       # Model identifier\n",
    "        \"safety_ratings\": [],         # Safety/content filtering info\n",
    "        \"token_usage\": {              # Token consumption info\n",
    "            \"prompt_tokens\": int,\n",
    "            \"completion_tokens\": int,\n",
    "            \"total_tokens\": int\n",
    "        }\n",
    "    },\n",
    "    \"id\": \"run-uuid-here\",           # Unique run identifier\n",
    "    \"type\": \"AIMessage\"              # Message type\n",
    "}"
   ]
  },
  {
   "cell_type": "markdown",
   "id": "3e5ccf88",
   "metadata": {},
   "source": [
    "# metadeta"
   ]
  },
  {
   "cell_type": "code",
   "execution_count": null,
   "id": "56da3d36",
   "metadata": {},
   "outputs": [
    {
     "name": "stdout",
     "output_type": "stream",
     "text": [
      "\n",
      "\n",
      "\n",
      "{'langgraph_step': 1, 'langgraph_node': 'call_model', 'langgraph_triggers': ('branch:to:call_model',), 'langgraph_path': ('__pregel_pull', 'call_model'), 'langgraph_checkpoint_ns': 'call_model:9842a15c-a725-80e7-6cc9-d95886b60927', 'checkpoint_ns': 'call_model:9842a15c-a725-80e7-6cc9-d95886b60927', 'ls_provider': 'google_genai', 'ls_model_name': 'gemini-1.5-flash', 'ls_model_type': 'chat', 'ls_temperature': 0.7}\n",
      "\n",
      "\n",
      "\n",
      "{'langgraph_step': 1, 'langgraph_node': 'call_model', 'langgraph_triggers': ('branch:to:call_model',), 'langgraph_path': ('__pregel_pull', 'call_model'), 'langgraph_checkpoint_ns': 'call_model:9842a15c-a725-80e7-6cc9-d95886b60927', 'checkpoint_ns': 'call_model:9842a15c-a725-80e7-6cc9-d95886b60927', 'ls_provider': 'google_genai', 'ls_model_name': 'gemini-1.5-flash', 'ls_model_type': 'chat', 'ls_temperature': 0.7}\n",
      "\n",
      "\n",
      "\n",
      "{'langgraph_step': 1, 'langgraph_node': 'call_model', 'langgraph_triggers': ('branch:to:call_model',), 'langgraph_path': ('__pregel_pull', 'call_model'), 'langgraph_checkpoint_ns': 'call_model:9842a15c-a725-80e7-6cc9-d95886b60927', 'checkpoint_ns': 'call_model:9842a15c-a725-80e7-6cc9-d95886b60927', 'ls_provider': 'google_genai', 'ls_model_name': 'gemini-1.5-flash', 'ls_model_type': 'chat', 'ls_temperature': 0.7}\n"
     ]
    }
   ],
   "source": [
    "\n",
    "for message_chunk, metadata in graph.stream( \n",
    "    {\"topic\": \"ice cream\"},\n",
    "    stream_mode=\"messages\",\n",
    "    \n",
    "):\n",
    "    \n",
    "    # print(\".........................................\")\n",
    "    # print(message_chunk)\n",
    "    # print(\".........................................\")\n",
    "\n",
    "    # if message_chunk.content:\n",
    "    #     print(message_chunk.content,  flush=True)\n",
    "\n",
    "    print(\"\\n\")\n",
    "    print()\n",
    "    print(metadata)"
   ]
  },
  {
   "cell_type": "code",
   "execution_count": null,
   "id": "c0bedaa1",
   "metadata": {},
   "outputs": [],
   "source": []
  }
 ],
 "metadata": {
  "kernelspec": {
   "display_name": "Python 3",
   "language": "python",
   "name": "python3"
  },
  "language_info": {
   "codemirror_mode": {
    "name": "ipython",
    "version": 3
   },
   "file_extension": ".py",
   "mimetype": "text/x-python",
   "name": "python",
   "nbconvert_exporter": "python",
   "pygments_lexer": "ipython3",
   "version": "3.12.4"
  }
 },
 "nbformat": 4,
 "nbformat_minor": 5
}
