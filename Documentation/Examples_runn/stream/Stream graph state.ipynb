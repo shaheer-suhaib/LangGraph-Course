{
 "cells": [
  {
   "cell_type": "code",
   "execution_count": null,
   "id": "064de194",
   "metadata": {},
   "outputs": [],
   "source": []
  },
  {
   "cell_type": "code",
   "execution_count": 8,
   "id": "a791861d",
   "metadata": {},
   "outputs": [],
   "source": [
    "from typing import TypedDict\n",
    "from langgraph.graph import StateGraph, START, END\n",
    "\n",
    "\n",
    "class State(TypedDict):\n",
    "  topic: str\n",
    "  joke: str\n",
    "\n",
    "\n",
    "def refine_topic(state: State):\n",
    "    return {\"topic\": state[\"topic\"] + \" and cats\"}\n",
    "\n",
    "\n",
    "def generate_joke(state: State):\n",
    "    # return {\"joke\": f\"This is a joke about {state['topic']}     \"}\n",
    "      return {\"topic\": f\"This is a joke about {state['topic']}     \"}\n",
    "\n",
    "graph = (\n",
    "  StateGraph(State)\n",
    "  .add_node(refine_topic)\n",
    "  .add_node(generate_joke)\n",
    "  .add_edge(START, \"refine_topic\")\n",
    "  .add_edge(\"refine_topic\", \"generate_joke\")\n",
    "  .add_edge(\"generate_joke\", END)\n",
    "  .compile()\n",
    ")"
   ]
  },
  {
   "cell_type": "code",
   "execution_count": 2,
   "id": "41b80db5",
   "metadata": {},
   "outputs": [
    {
     "data": {
      "image/png": "[encoded data removed]",
      "text/plain": [
       "<langgraph.graph.state.CompiledStateGraph object at 0x000001E4715D69C0>"
      ]
     },
     "execution_count": 2,
     "metadata": {},
     "output_type": "execute_result"
    }
   ],
   "source": [
    "graph"
   ]
  },
  {
   "cell_type": "markdown",
   "id": "a80a2d54",
   "metadata": {},
   "source": [
    "### to stream only the state updates returned by the nodes after each step"
   ]
  },
  {
   "cell_type": "code",
   "execution_count": 6,
   "id": "7360fa2b",
   "metadata": {},
   "outputs": [
    {
     "name": "stdout",
     "output_type": "stream",
     "text": [
      "{'refine_topic': {'topic': 'ice cream and cats'}}\n",
      "{'generate_joke': {'joke': 'This is a joke about ice cream and cats'}}\n"
     ]
    }
   ],
   "source": [
    "for chunk in graph.stream(\n",
    "    {\"topic\": \"ice cream\"},\n",
    "    stream_mode=\"updates\",\n",
    "):\n",
    "    print(chunk)"
   ]
  },
  {
   "cell_type": "markdown",
   "id": "90abe4cd",
   "metadata": {},
   "source": [
    "to stream the full state of the g"
   ]
  },
  {
   "cell_type": "code",
   "execution_count": 9,
   "id": "53e8742a",
   "metadata": {},
   "outputs": [
    {
     "name": "stdout",
     "output_type": "stream",
     "text": [
      "{'topic': 'ice cream'}\n",
      "{'topic': 'ice cream and cats'}\n",
      "{'topic': 'This is a joke about ice cream and cats     '}\n"
     ]
    }
   ],
   "source": [
    "for chunk in graph.stream(\n",
    "    {\"topic\": \"ice cream\"},\n",
    "    stream_mode=\"values\",\n",
    "):\n",
    "    print(chunk)"
   ]
  },
  {
   "cell_type": "code",
   "execution_count": 11,
   "id": "bbfdbbc3",
   "metadata": {},
   "outputs": [
    {
     "name": "stdout",
     "output_type": "stream",
     "text": [
      "{'step': 1, 'timestamp': '2025-07-08T08:28:30.377545+00:00', 'type': 'task', 'payload': {'id': 'd460f39a-e27f-6f51-e734-4ce9f1619f3d', 'name': 'refine_topic', 'input': {'topic': 'ice cream'}, 'triggers': ('branch:to:refine_topic',)}}\n",
      "{'step': 1, 'timestamp': '2025-07-08T08:28:30.377545+00:00', 'type': 'task_result', 'payload': {'id': 'd460f39a-e27f-6f51-e734-4ce9f1619f3d', 'name': 'refine_topic', 'error': None, 'result': [('topic', 'ice cream and cats')], 'interrupts': []}}\n",
      "{'step': 2, 'timestamp': '2025-07-08T08:28:30.378541+00:00', 'type': 'task', 'payload': {'id': '365ece35-2d96-8a7c-f192-bd485f624d73', 'name': 'generate_joke', 'input': {'topic': 'ice cream and cats'}, 'triggers': ('branch:to:generate_joke',)}}\n",
      "{'step': 2, 'timestamp': '2025-07-08T08:28:30.378541+00:00', 'type': 'task_result', 'payload': {'id': '365ece35-2d96-8a7c-f192-bd485f624d73', 'name': 'generate_joke', 'error': None, 'result': [('topic', 'This is a joke about ice cream and cats     ')], 'interrupts': []}}\n"
     ]
    }
   ],
   "source": [
    "for chunk in graph.stream(\n",
    "    {\"topic\": \"ice cream\"},\n",
    "    stream_mode=\"debug\",\n",
    "):\n",
    "    print(chunk)"
   ]
  },
  {
   "cell_type": "code",
   "execution_count": null,
   "id": "fe17ff3d",
   "metadata": {},
   "outputs": [],
   "source": []
  }
 ],
 "metadata": {
  "kernelspec": {
   "display_name": "Python 3",
   "language": "python",
   "name": "python3"
  },
  "language_info": {
   "codemirror_mode": {
    "name": "ipython",
    "version": 3
   },
   "file_extension": ".py",
   "mimetype": "text/x-python",
   "name": "python",
   "nbconvert_exporter": "python",
   "pygments_lexer": "ipython3",
   "version": "3.12.4"
  }
 },
 "nbformat": 4,
 "nbformat_minor": 5
}
