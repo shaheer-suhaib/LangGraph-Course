{
 "cells": [
  {
   "cell_type": "code",
   "execution_count": 9,
   "id": "dc36e8dc",
   "metadata": {},
   "outputs": [
    {
     "name": "stdout",
     "output_type": "stream",
     "text": [
      "> About to interrupt\n",
      "[Interrupt(value={'text_to_revise': ' shaheerr'}, resumable=True, ns=['human_node:caf00410-4708-6d68-bcd0-812e63e86f6d'])]\n",
      "> About to interrupt\n",
      "> Resumed, got:answer\n",
      "{'some_text': 'Syed Shaheer'}\n"
     ]
    }
   ],
   "source": [
    "from typing import TypedDict\n",
    "import uuid\n",
    "\n",
    "from langgraph.checkpoint.memory import InMemorySaver\n",
    "from langgraph.constants import START\n",
    "from langgraph.graph import StateGraph\n",
    "from langgraph.types import interrupt, Command\n",
    "\n",
    "class State(TypedDict):\n",
    "    some_text: str\n",
    "\n",
    "def human_node(state: State):\n",
    "\n",
    "    print(\"> About to interrupt\")\n",
    "    value = interrupt( \n",
    "        {\n",
    "            \"text_to_revise\": state[\"some_text\"] \n",
    "        }\n",
    "    )\n",
    "    print(\"> Resumed, got:answer\")\n",
    "    return {\n",
    "        \"some_text\": value \n",
    "    }\n",
    "\n",
    "\n",
    "# Build the graph\n",
    "graph_builder = StateGraph(State)\n",
    "graph_builder.add_node(\"human_node\", human_node)\n",
    "graph_builder.add_edge(START, \"human_node\")\n",
    "\n",
    "checkpointer = InMemorySaver() \n",
    "\n",
    "graph = graph_builder.compile(checkpointer=checkpointer)\n",
    "\n",
    "# Pass a thread ID to the graph to run it.\n",
    "config = {\"configurable\": {\"thread_id\": uuid.uuid4()}}\n",
    "\n",
    "# Run the graph until the interrupt is hit.\n",
    "result = graph.invoke({\"some_text\": \" shaheerr\"}, config=config) \n",
    "\n",
    "print(result['__interrupt__']) \n",
    "# > [\n",
    "# >    Interrupt(\n",
    "# >       value={'text_to_revise': 'original text'}, \n",
    "# >       resumable=True,\n",
    "# >       ns=['human_node:6ce9e64f-edef-fe5d-f7dc-511fa9526960']\n",
    "# >    )\n",
    "# > ] \n",
    "\n",
    "print(graph.invoke(Command(resume=\"Syed Shaheer\"), config=config)) \n",
    "\n",
    "# > {'some_text': 'Edited text'}"
   ]
  },
  {
   "cell_type": "code",
   "execution_count": 8,
   "id": "ebfd10f3",
   "metadata": {},
   "outputs": [
    {
     "name": "stdout",
     "output_type": "stream",
     "text": [
      "{'some_text': 'Edited text'}\n"
     ]
    }
   ],
   "source": [
    "print(graph.invoke(Command(resume=\"Edited l\"), config=config)) \n"
   ]
  },
  {
   "cell_type": "code",
   "execution_count": 7,
   "id": "cc804d87",
   "metadata": {},
   "outputs": [
    {
     "name": "stdout",
     "output_type": "stream",
     "text": [
      "{'some_text': 'Edited text'}\n"
     ]
    }
   ],
   "source": [
    "print(graph.invoke(Command(resume=\"Edited j\"), config=config)) \n"
   ]
  },
  {
   "cell_type": "markdown",
   "id": "bb969f67",
   "metadata": {},
   "source": [
    "# approve or reject"
   ]
  },
  {
   "cell_type": "code",
   "execution_count": 2,
   "id": "f41161fd",
   "metadata": {},
   "outputs": [],
   "source": [
    "from typing import Literal, TypedDict\n",
    "import uuid\n",
    "\n",
    "from langgraph.constants import START, END\n",
    "from langgraph.graph import StateGraph\n",
    "from langgraph.types import interrupt, Command\n",
    "from langgraph.checkpoint.memory import MemorySaver\n",
    "\n",
    "# Define the shared graph state\n",
    "class State(TypedDict):\n",
    "    llm_output: str\n",
    "    decision: str\n",
    "\n",
    "# Simulate an LLM output node\n",
    "def generate_llm_output(state: State) -> State:\n",
    "\n",
    "    print(\"i am from first\")\n",
    "    return {\"llm_output\": \"This is the generated output.\"}\n",
    "\n",
    "# Human approval node\n",
    "def human_approval(state: State) -> Command[Literal[\"approved_path\", \"rejected_path\"]]:\n",
    "    decision = interrupt({\n",
    "        \"question\": \"Do you approve the following output?\",\n",
    "        \"llm_output\": state[\"llm_output\"]\n",
    "    })\n",
    "\n",
    "    if decision == \"approve\":\n",
    "        return Command(goto=\"approved_path\", update={\"decision\": \"approved\"})\n",
    "    else:\n",
    "        return Command(goto=\"rejected_path\", update={\"decision\": \"rejected\"})\n",
    "\n",
    "# Next steps after approval\n",
    "def approved_node(state: State) -> State:\n",
    "    print(\"✅ Approved path taken.\")\n",
    "    return state\n",
    "\n",
    "# Alternative path after rejection\n",
    "def rejected_node(state: State) -> State:\n",
    "    print(\"❌ Rejected path taken.\")\n",
    "    return state\n",
    "\n",
    "# Build the graph\n",
    "builder = StateGraph(State)\n",
    "builder.add_node(\"generate_llm_output\", generate_llm_output)\n",
    "builder.add_node(\"human_approval\", human_approval)\n",
    "builder.add_node(\"approved_path\", approved_node)\n",
    "builder.add_node(\"rejected_path\", rejected_node)\n",
    "\n",
    "builder.set_entry_point(\"generate_llm_output\")\n",
    "builder.add_edge(\"generate_llm_output\", \"human_approval\")\n",
    "builder.add_edge(\"approved_path\", END)\n",
    "builder.add_edge(\"rejected_path\", END)\n",
    "\n",
    "checkpointer = MemorySaver()\n",
    "graph = builder.compile(checkpointer=checkpointer)\n"
   ]
  },
  {
   "cell_type": "code",
   "execution_count": 3,
   "id": "616a816a",
   "metadata": {},
   "outputs": [
    {
     "data": {
      "image/png": "[encoded data removed]",
      "text/plain": [
       "<langgraph.graph.state.CompiledStateGraph object at 0x000001A3D1518C80>"
      ]
     },
     "execution_count": 3,
     "metadata": {},
     "output_type": "execute_result"
    }
   ],
   "source": [
    "builder.compile()"
   ]
  },
  {
   "cell_type": "code",
   "execution_count": 4,
   "id": "53a1b18a",
   "metadata": {},
   "outputs": [
    {
     "name": "stdout",
     "output_type": "stream",
     "text": [
      "i am from first\n",
      "[Interrupt(value={'question': 'Do you approve the following output?', 'llm_output': 'This is the generated output.'}, resumable=True, ns=['human_approval:baed16be-399e-0b5a-4254-b86029775d60'])]\n"
     ]
    }
   ],
   "source": [
    "\n",
    "# Run until interrupt\n",
    "config = {\"configurable\": {\"thread_id\": uuid.uuid4()}}\n",
    "\n",
    "result = graph.invoke({}, config=config)\n",
    "print(result[\"__interrupt__\"])\n",
    "\n"
   ]
  },
  {
   "cell_type": "code",
   "execution_count": 5,
   "id": "01b0e62c",
   "metadata": {},
   "outputs": [
    {
     "name": "stdout",
     "output_type": "stream",
     "text": [
      "✅ Approved path taken.\n",
      "{'llm_output': 'This is the generated output.', 'decision': 'approved'}\n"
     ]
    }
   ],
   "source": [
    "\n",
    "# Output:\n",
    "# Interrupt(value={'question': 'Do you approve the following output?', 'llm_output': 'This is the generated output.'}, ...)\n",
    "\n",
    "# Simulate resuming with human input\n",
    "# To test rejection, replace resume=\"approve\" with resume=\"reject\"\n",
    "final_result = graph.invoke(Command(resume=\"approve\"), config=config)\n",
    "print(final_result)"
   ]
  },
  {
   "cell_type": "markdown",
   "id": "9f60aaca",
   "metadata": {},
   "source": [
    "# validation user input"
   ]
  },
  {
   "cell_type": "code",
   "execution_count": 25,
   "id": "93016116",
   "metadata": {},
   "outputs": [
    {
     "data": {
      "image/png": "[encoded data removed]",
      "text/plain": [
       "<langgraph.graph.state.CompiledStateGraph object at 0x000001895A9EA810>"
      ]
     },
     "execution_count": 25,
     "metadata": {},
     "output_type": "execute_result"
    }
   ],
   "source": [
    "from typing import TypedDict\n",
    "import uuid\n",
    "\n",
    "from langgraph.constants import START, END\n",
    "from langgraph.graph import StateGraph\n",
    "from langgraph.types import interrupt, Command\n",
    "from langgraph.checkpoint.memory import MemorySaver\n",
    "\n",
    "# Define graph state\n",
    "class State(TypedDict):\n",
    "    age: int\n",
    "\n",
    "# Node that asks for human input and validates it\n",
    "def get_valid_age(state: State) -> State:\n",
    "    prompt = \"Please enter your age (must be a non-negative integer).\"\n",
    "\n",
    "    while True:\n",
    "        user_input = interrupt(prompt)\n",
    "\n",
    "        # Validate the input\n",
    "        try:\n",
    "            age = int(user_input)\n",
    "            if age < 0:\n",
    "                raise ValueError(\"Age must be non-negative.\")\n",
    "            break  # Valid input received\n",
    "        except (ValueError, TypeError):\n",
    "            prompt = f\"'{user_input}' is not valid. Please enter a non-negative integer for age.\"\n",
    "\n",
    "    return {\"age\": age}\n",
    "\n",
    "# Node that uses the valid input\n",
    "def report_age(state: State) -> State:\n",
    "    print(f\"✅ Human is {state['age']} years old.\")\n",
    "    return state\n",
    "\n",
    "# Build the graph\n",
    "builder = StateGraph(State)\n",
    "builder.add_node(\"get_valid_age\", get_valid_age)\n",
    "builder.add_node(\"report_age\", report_age)\n",
    "\n",
    "builder.set_entry_point(\"get_valid_age\")\n",
    "builder.add_edge(\"get_valid_age\", \"report_age\")\n",
    "builder.add_edge(\"report_age\", END)\n",
    "\n",
    "# Create the graph with a memory checkpointer\n",
    "checkpointer = MemorySaver()\n",
    "graph = builder.compile(checkpointer=checkpointer)\n",
    "builder.compile()"
   ]
  },
  {
   "cell_type": "code",
   "execution_count": 26,
   "id": "a57f760f",
   "metadata": {},
   "outputs": [
    {
     "name": "stdout",
     "output_type": "stream",
     "text": [
      "[Interrupt(value='Please enter your age (must be a non-negative integer).', resumable=True, ns=['get_valid_age:2fadf197-0232-72be-bffd-36d1dc3b5b1a'])]\n"
     ]
    }
   ],
   "source": [
    "\n",
    "# Run the graph until the first interrupt\n",
    "config = {\"configurable\": {\"thread_id\": uuid.uuid4()}}\n",
    "result = graph.invoke({}, config=config)\n",
    "print(result[\"__interrupt__\"])  # First prompt: \"Please enter your age...\"\n"
   ]
  },
  {
   "cell_type": "code",
   "execution_count": 28,
   "id": "43863b22",
   "metadata": {},
   "outputs": [
    {
     "name": "stdout",
     "output_type": "stream",
     "text": [
      "[Interrupt(value=\"'not a number' is not valid. Please enter a non-negative integer for age.\", resumable=True, ns=['get_valid_age:2fadf197-0232-72be-bffd-36d1dc3b5b1a'])]\n"
     ]
    }
   ],
   "source": [
    "\n",
    "# Simulate an invalid input (e.g., string instead of integer)\n",
    "result = graph.invoke(Command(resume=\"not a number\"), config=config)\n",
    "print(result[\"__interrupt__\"])  # Follow-up prompt with validation message\n"
   ]
  },
  {
   "cell_type": "code",
   "execution_count": 23,
   "id": "eeeaefbf",
   "metadata": {},
   "outputs": [
    {
     "name": "stdout",
     "output_type": "stream",
     "text": [
      "[Interrupt(value=\"'-10' is not valid. Please enter a non-negative integer for age.\", resumable=True, ns=['get_valid_age:e79239f5-e4e7-6533-cbbb-4e4618c925ab'])]\n"
     ]
    }
   ],
   "source": [
    "\n",
    "# Simulate a second invalid input (e.g., negative number)\n",
    "result = graph.invoke(Command(resume=\"-10\"), config=config)\n",
    "print(result[\"__interrupt__\"])  # Another retry\n"
   ]
  },
  {
   "cell_type": "code",
   "execution_count": 24,
   "id": "c6261ae1",
   "metadata": {},
   "outputs": [
    {
     "name": "stdout",
     "output_type": "stream",
     "text": [
      "✅ Human is 25 years old.\n",
      "{'age': 25}\n"
     ]
    }
   ],
   "source": [
    "\n",
    "# Provide valid input\n",
    "final_result = graph.invoke(Command(resume=\"25\"), config=config)\n",
    "print(final_result)  # Should include the valid ag"
   ]
  },
  {
   "cell_type": "markdown",
   "id": "6166210f",
   "metadata": {},
   "source": [
    "# add interrupt to tool"
   ]
  },
  {
   "cell_type": "code",
   "execution_count": null,
   "id": "715a980d",
   "metadata": {},
   "outputs": [],
   "source": [
    "from typing import Callable\n",
    "from langchain_core.tools import BaseTool, tool as create_tool\n",
    "from langchain_core.runnables import RunnableConfig\n",
    "from langgraph.types import interrupt \n",
    "from langgraph.prebuilt.interrupt import HumanInterruptConfig, HumanInterrupt\n",
    "\n",
    "def add_human_in_the_loop(\n",
    "    tool: Callable | BaseTool,\n",
    "    *,\n",
    "    interrupt_config: HumanInterruptConfig = None,\n",
    ") -> BaseTool:\n",
    "    \"\"\"Wrap a tool to support human-in-the-loop review.\"\"\" \n",
    "    if not isinstance(tool, BaseTool):\n",
    "        tool = create_tool(tool)\n",
    "\n",
    "    if interrupt_config is None:\n",
    "        interrupt_config = {\n",
    "            \"allow_accept\": True,\n",
    "            \"allow_edit\": True,\n",
    "            \"allow_respond\": True,\n",
    "        }\n",
    "\n",
    "    @create_tool(  \n",
    "        tool.name,\n",
    "        description=tool.description,\n",
    "        args_schema=tool.args_schema\n",
    "    )\n",
    "    def call_tool_with_interrupt(config: RunnableConfig, **tool_input):\n",
    "        request: HumanInterrupt = {\n",
    "            \"action_request\": {\n",
    "                \"action\": tool.name,\n",
    "                \"args\": tool_input\n",
    "            },\n",
    "            \"config\": interrupt_config,\n",
    "            \"description\": \"Please review the tool call\"\n",
    "        }\n",
    "        response = interrupt([request])[0]  \n",
    "        # approve the tool call\n",
    "        if response[\"type\"] == \"accept\":\n",
    "            tool_response = tool.invoke(tool_input, config)\n",
    "        # update tool call args\n",
    "        elif response[\"type\"] == \"edit\":\n",
    "            tool_input = response[\"args\"][\"args\"]\n",
    "            tool_response = tool.invoke(tool_input, config)\n",
    "        # respond to the LLM with user feedback\n",
    "        elif response[\"type\"] == \"response\":\n",
    "            user_feedback = response[\"args\"]\n",
    "            tool_response = user_feedback\n",
    "        else:\n",
    "            raise ValueError(f\"Unsupported interrupt response type: {response['type']}\")\n",
    "\n",
    "        return tool_response\n",
    "\n",
    "    return call_tool_with_interrupt"
   ]
  },
  {
   "cell_type": "markdown",
   "id": "afaa5988",
   "metadata": {},
   "source": [
    "# Using multiple interrupts"
   ]
  },
  {
   "cell_type": "code",
   "execution_count": 6,
   "id": "5e420e79",
   "metadata": {},
   "outputs": [
    {
     "ename": "SyntaxError",
     "evalue": "invalid syntax (631294677.py, line 108)",
     "output_type": "error",
     "traceback": [
      "\u001b[1;36m  Cell \u001b[1;32mIn[6], line 108\u001b[1;36m\u001b[0m\n\u001b[1;33m    for event\u001b[0m\n\u001b[1;37m             ^\u001b[0m\n\u001b[1;31mSyntaxError\u001b[0m\u001b[1;31m:\u001b[0m invalid syntax\n"
     ]
    }
   ],
   "source": [
    "import os\n",
    "import uuid\n",
    "from typing_extensions import TypedDict\n",
    "from langgraph.graph import StateGraph, START, END\n",
    "from langgraph.types import interrupt, Command\n",
    "from langgraph.checkpoint.memory import InMemorySaver\n",
    "from langchain_google_genai import ChatGoogleGenerativeAI\n",
    "from langchain_core.messages import HumanMessage, AIMessage, SystemMessage\n",
    "\n",
    "# Load Google Gemini API key\n",
    "Talk_llm = os.getenv(\"GEMINI_API_KEYY\")\n",
    "model = ChatGoogleGenerativeAI(model=\"gemini-1.5-flash\", google_api_key=Talk_llm)\n",
    "\n",
    "class State(TypedDict):\n",
    "    conversation: list[dict]  # Stores conversation history as list of message dictionaries\n",
    "    continue_chat: bool       # Flag to continue or stop conversation\n",
    "\n",
    "def multi_turn_node(state: State):\n",
    "    # Initialize conversation list if not present\n",
    "    conversation = state.get(\"conversation\", [])\n",
    "    continue_chat = state.get(\"continue_chat\", True)\n",
    "\n",
    "    if not continue_chat:\n",
    "        print(\"Conversation ended.\")\n",
    "        return {\"conversation\": conversation, \"continue_chat\": False}\n",
    "\n",
    "    # Prepare messages for model\n",
    "    formatted_messages = []\n",
    "    \n",
    "    # Add system context if it's the first turn\n",
    "    if not conversation:\n",
    "        formatted_messages.append(SystemMessage(content=\"You are a helpful AI assistant. Engage in a friendly conversation.\"))\n",
    "\n",
    "    # Convert conversation history to message objects\n",
    "    for msg in conversation:\n",
    "        if msg['role'] == 'human':\n",
    "            formatted_messages.append(HumanMessage(content=msg['content']))\n",
    "        elif msg['role'] == 'ai':\n",
    "            formatted_messages.append(AIMessage(content=msg['content']))\n",
    "\n",
    "    # Invoke the model with conversation history\n",
    "    try:\n",
    "        ai_response = model.invoke(formatted_messages)\n",
    "        \n",
    "        # Append AI response to conversation\n",
    "        conversation.append({\n",
    "            'role': 'ai', \n",
    "            'content': ai_response.content\n",
    "        })\n",
    "        \n",
    "        # Print AI's response\n",
    "        print(\"AI:\", ai_response.content)\n",
    "\n",
    "    except Exception as e:\n",
    "        print(f\"Error invoking model: {e}\")\n",
    "        continue_chat = False\n",
    "        return {\"conversation\": conversation, \"continue_chat\": continue_chat}\n",
    "\n",
    "    # Pause and wait for user input\n",
    "    prompt = \"Your turn (type 'exit' to stop):\"\n",
    "    user_input = interrupt(prompt)\n",
    "\n",
    "    # Append user input to conversation history\n",
    "    conversation.append({\n",
    "        'role': 'human', \n",
    "        'content': user_input\n",
    "    })\n",
    "\n",
    "    # Check for exit condition\n",
    "    if user_input.strip().lower() == \"exit\":\n",
    "        continue_chat = False\n",
    "        print(\"User requested to end the conversation.\")\n",
    "\n",
    "    return {\"conversation\": conversation, \"continue_chat\": continue_chat}\n",
    "\n",
    "# Build the graph\n",
    "builder = StateGraph(State)\n",
    "builder.add_node(\"multi_turn_node\", multi_turn_node)\n",
    "builder.add_edge(START, \"multi_turn_node\")\n",
    "builder.add_edge(\"multi_turn_node\", \"multi_turn_node\")  # Loop back for multi-turn\n",
    "builder.add_edge(\"multi_turn_node\", END)  # End when continue_chat is False\n",
    "\n",
    "# Compile with a checkpointer to save state\n",
    "checkpointer = InMemorySaver()\n",
    "graph = builder.compile(checkpointer=checkpointer)\n",
    "\n",
    "# Config with unique thread_id for session\n",
    "config = {\"configurable\": {\"thread_id\": uuid.uuid4()}}\n",
    "\n",
    "# Initial state\n",
    "initial_state = {\"conversation\": [], \"continue_chat\": True}\n",
    "\n",
    "# Run the graph until first interrupt (user input)\n",
    "for event in graph.stream(initial_state, config, stream_mode=\"updates\"):\n",
    "    print(event)\n",
    "    if \"__interrupt__\" in event:\n",
    "        break\n",
    "\n",
    "# Simulate user input and resume multiple times\n",
    "user_inputs = [\n",
    "    \"Hello, i am bob\", \n",
    "    \"what is my name\", \n",
    "    \"exit\"\n",
    "]\n",
    "\n",
    "for user_text in user_inputs:\n",
    "    print(f\"\\nResuming with user input: {user_text}\")\n",
    "    for event\n"
   ]
  },
  {
   "cell_type": "code",
   "execution_count": null,
   "id": "bbc95cd1",
   "metadata": {},
   "outputs": [],
   "source": []
  }
 ],
 "metadata": {
  "kernelspec": {
   "display_name": "Python 3",
   "language": "python",
   "name": "python3"
  },
  "language_info": {
   "codemirror_mode": {
    "name": "ipython",
    "version": 3
   },
   "file_extension": ".py",
   "mimetype": "text/x-python",
   "name": "python",
   "nbconvert_exporter": "python",
   "pygments_lexer": "ipython3",
   "version": "3.12.4"
  }
 },
 "nbformat": 4,
 "nbformat_minor": 5
}
